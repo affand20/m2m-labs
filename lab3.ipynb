{
  "nbformat": 4,
  "nbformat_minor": 0,
  "metadata": {
    "colab": {
      "name": "Lab #3.ipynb",
      "provenance": [],
      "collapsed_sections": []
    },
    "kernelspec": {
      "name": "python3",
      "display_name": "Python 3"
    },
    "language_info": {
      "name": "python"
    },
    "accelerator": "GPU",
    "widgets": {
      "application/vnd.jupyter.widget-state+json": {
        "3b4577b9a8b548f89f51ef303bed2a4a": {
          "model_module": "@jupyter-widgets/controls",
          "model_name": "HBoxModel",
          "model_module_version": "1.5.0",
          "state": {
            "_view_name": "HBoxView",
            "_dom_classes": [],
            "_model_name": "HBoxModel",
            "_view_module": "@jupyter-widgets/controls",
            "_model_module_version": "1.5.0",
            "_view_count": null,
            "_view_module_version": "1.5.0",
            "box_style": "",
            "layout": "IPY_MODEL_dda2af880ae94c93b990e0769376e1df",
            "_model_module": "@jupyter-widgets/controls",
            "children": [
              "IPY_MODEL_ba8bad2d2dc943a6bcd9eedbffac4fd6",
              "IPY_MODEL_85f6b6f5f4f84223b8520e4f09ab5e42",
              "IPY_MODEL_e81aca9a5f274e1a88507770a981038a"
            ]
          }
        },
        "dda2af880ae94c93b990e0769376e1df": {
          "model_module": "@jupyter-widgets/base",
          "model_name": "LayoutModel",
          "model_module_version": "1.2.0",
          "state": {
            "_view_name": "LayoutView",
            "grid_template_rows": null,
            "right": null,
            "justify_content": null,
            "_view_module": "@jupyter-widgets/base",
            "overflow": null,
            "_model_module_version": "1.2.0",
            "_view_count": null,
            "flex_flow": null,
            "width": null,
            "min_width": null,
            "border": null,
            "align_items": null,
            "bottom": null,
            "_model_module": "@jupyter-widgets/base",
            "top": null,
            "grid_column": null,
            "overflow_y": null,
            "overflow_x": null,
            "grid_auto_flow": null,
            "grid_area": null,
            "grid_template_columns": null,
            "flex": null,
            "_model_name": "LayoutModel",
            "justify_items": null,
            "grid_row": null,
            "max_height": null,
            "align_content": null,
            "visibility": null,
            "align_self": null,
            "height": null,
            "min_height": null,
            "padding": null,
            "grid_auto_rows": null,
            "grid_gap": null,
            "max_width": null,
            "order": null,
            "_view_module_version": "1.2.0",
            "grid_template_areas": null,
            "object_position": null,
            "object_fit": null,
            "grid_auto_columns": null,
            "margin": null,
            "display": null,
            "left": null
          }
        },
        "ba8bad2d2dc943a6bcd9eedbffac4fd6": {
          "model_module": "@jupyter-widgets/controls",
          "model_name": "HTMLModel",
          "model_module_version": "1.5.0",
          "state": {
            "_view_name": "HTMLView",
            "style": "IPY_MODEL_e2ad3fca37cb4984945c18044073de6d",
            "_dom_classes": [],
            "description": "",
            "_model_name": "HTMLModel",
            "placeholder": "​",
            "_view_module": "@jupyter-widgets/controls",
            "_model_module_version": "1.5.0",
            "value": "  0%",
            "_view_count": null,
            "_view_module_version": "1.5.0",
            "description_tooltip": null,
            "_model_module": "@jupyter-widgets/controls",
            "layout": "IPY_MODEL_a5301a737bb245e8afff5f6f1be68244"
          }
        },
        "85f6b6f5f4f84223b8520e4f09ab5e42": {
          "model_module": "@jupyter-widgets/controls",
          "model_name": "FloatProgressModel",
          "model_module_version": "1.5.0",
          "state": {
            "_view_name": "ProgressView",
            "style": "IPY_MODEL_52f52d8b7feb490c94986c027b373bba",
            "_dom_classes": [],
            "description": "",
            "_model_name": "FloatProgressModel",
            "bar_style": "danger",
            "max": 1000000,
            "_view_module": "@jupyter-widgets/controls",
            "_model_module_version": "1.5.0",
            "value": 13,
            "_view_count": null,
            "_view_module_version": "1.5.0",
            "orientation": "horizontal",
            "min": 0,
            "description_tooltip": null,
            "_model_module": "@jupyter-widgets/controls",
            "layout": "IPY_MODEL_daaebebb68a1467b82accfa03b2b518d"
          }
        },
        "e81aca9a5f274e1a88507770a981038a": {
          "model_module": "@jupyter-widgets/controls",
          "model_name": "HTMLModel",
          "model_module_version": "1.5.0",
          "state": {
            "_view_name": "HTMLView",
            "style": "IPY_MODEL_0f7fbc86f43c490ba9134d95db602e78",
            "_dom_classes": [],
            "description": "",
            "_model_name": "HTMLModel",
            "placeholder": "​",
            "_view_module": "@jupyter-widgets/controls",
            "_model_module_version": "1.5.0",
            "value": " 13/1000000 [00:10&lt;67:21:10,  4.12it/s]",
            "_view_count": null,
            "_view_module_version": "1.5.0",
            "description_tooltip": null,
            "_model_module": "@jupyter-widgets/controls",
            "layout": "IPY_MODEL_e227ac65844f41a08888eefab3fcb4d7"
          }
        },
        "e2ad3fca37cb4984945c18044073de6d": {
          "model_module": "@jupyter-widgets/controls",
          "model_name": "DescriptionStyleModel",
          "model_module_version": "1.5.0",
          "state": {
            "_view_name": "StyleView",
            "_model_name": "DescriptionStyleModel",
            "description_width": "",
            "_view_module": "@jupyter-widgets/base",
            "_model_module_version": "1.5.0",
            "_view_count": null,
            "_view_module_version": "1.2.0",
            "_model_module": "@jupyter-widgets/controls"
          }
        },
        "a5301a737bb245e8afff5f6f1be68244": {
          "model_module": "@jupyter-widgets/base",
          "model_name": "LayoutModel",
          "model_module_version": "1.2.0",
          "state": {
            "_view_name": "LayoutView",
            "grid_template_rows": null,
            "right": null,
            "justify_content": null,
            "_view_module": "@jupyter-widgets/base",
            "overflow": null,
            "_model_module_version": "1.2.0",
            "_view_count": null,
            "flex_flow": null,
            "width": null,
            "min_width": null,
            "border": null,
            "align_items": null,
            "bottom": null,
            "_model_module": "@jupyter-widgets/base",
            "top": null,
            "grid_column": null,
            "overflow_y": null,
            "overflow_x": null,
            "grid_auto_flow": null,
            "grid_area": null,
            "grid_template_columns": null,
            "flex": null,
            "_model_name": "LayoutModel",
            "justify_items": null,
            "grid_row": null,
            "max_height": null,
            "align_content": null,
            "visibility": null,
            "align_self": null,
            "height": null,
            "min_height": null,
            "padding": null,
            "grid_auto_rows": null,
            "grid_gap": null,
            "max_width": null,
            "order": null,
            "_view_module_version": "1.2.0",
            "grid_template_areas": null,
            "object_position": null,
            "object_fit": null,
            "grid_auto_columns": null,
            "margin": null,
            "display": null,
            "left": null
          }
        },
        "52f52d8b7feb490c94986c027b373bba": {
          "model_module": "@jupyter-widgets/controls",
          "model_name": "ProgressStyleModel",
          "model_module_version": "1.5.0",
          "state": {
            "_view_name": "StyleView",
            "_model_name": "ProgressStyleModel",
            "description_width": "",
            "_view_module": "@jupyter-widgets/base",
            "_model_module_version": "1.5.0",
            "_view_count": null,
            "_view_module_version": "1.2.0",
            "bar_color": null,
            "_model_module": "@jupyter-widgets/controls"
          }
        },
        "daaebebb68a1467b82accfa03b2b518d": {
          "model_module": "@jupyter-widgets/base",
          "model_name": "LayoutModel",
          "model_module_version": "1.2.0",
          "state": {
            "_view_name": "LayoutView",
            "grid_template_rows": null,
            "right": null,
            "justify_content": null,
            "_view_module": "@jupyter-widgets/base",
            "overflow": null,
            "_model_module_version": "1.2.0",
            "_view_count": null,
            "flex_flow": null,
            "width": null,
            "min_width": null,
            "border": null,
            "align_items": null,
            "bottom": null,
            "_model_module": "@jupyter-widgets/base",
            "top": null,
            "grid_column": null,
            "overflow_y": null,
            "overflow_x": null,
            "grid_auto_flow": null,
            "grid_area": null,
            "grid_template_columns": null,
            "flex": null,
            "_model_name": "LayoutModel",
            "justify_items": null,
            "grid_row": null,
            "max_height": null,
            "align_content": null,
            "visibility": null,
            "align_self": null,
            "height": null,
            "min_height": null,
            "padding": null,
            "grid_auto_rows": null,
            "grid_gap": null,
            "max_width": null,
            "order": null,
            "_view_module_version": "1.2.0",
            "grid_template_areas": null,
            "object_position": null,
            "object_fit": null,
            "grid_auto_columns": null,
            "margin": null,
            "display": null,
            "left": null
          }
        },
        "0f7fbc86f43c490ba9134d95db602e78": {
          "model_module": "@jupyter-widgets/controls",
          "model_name": "DescriptionStyleModel",
          "model_module_version": "1.5.0",
          "state": {
            "_view_name": "StyleView",
            "_model_name": "DescriptionStyleModel",
            "description_width": "",
            "_view_module": "@jupyter-widgets/base",
            "_model_module_version": "1.5.0",
            "_view_count": null,
            "_view_module_version": "1.2.0",
            "_model_module": "@jupyter-widgets/controls"
          }
        },
        "e227ac65844f41a08888eefab3fcb4d7": {
          "model_module": "@jupyter-widgets/base",
          "model_name": "LayoutModel",
          "model_module_version": "1.2.0",
          "state": {
            "_view_name": "LayoutView",
            "grid_template_rows": null,
            "right": null,
            "justify_content": null,
            "_view_module": "@jupyter-widgets/base",
            "overflow": null,
            "_model_module_version": "1.2.0",
            "_view_count": null,
            "flex_flow": null,
            "width": null,
            "min_width": null,
            "border": null,
            "align_items": null,
            "bottom": null,
            "_model_module": "@jupyter-widgets/base",
            "top": null,
            "grid_column": null,
            "overflow_y": null,
            "overflow_x": null,
            "grid_auto_flow": null,
            "grid_area": null,
            "grid_template_columns": null,
            "flex": null,
            "_model_name": "LayoutModel",
            "justify_items": null,
            "grid_row": null,
            "max_height": null,
            "align_content": null,
            "visibility": null,
            "align_self": null,
            "height": null,
            "min_height": null,
            "padding": null,
            "grid_auto_rows": null,
            "grid_gap": null,
            "max_width": null,
            "order": null,
            "_view_module_version": "1.2.0",
            "grid_template_areas": null,
            "object_position": null,
            "object_fit": null,
            "grid_auto_columns": null,
            "margin": null,
            "display": null,
            "left": null
          }
        },
        "f2bc93dd07104ebab71891dfd4deb555": {
          "model_module": "@jupyter-widgets/controls",
          "model_name": "HBoxModel",
          "model_module_version": "1.5.0",
          "state": {
            "_view_name": "HBoxView",
            "_dom_classes": [],
            "_model_name": "HBoxModel",
            "_view_module": "@jupyter-widgets/controls",
            "_model_module_version": "1.5.0",
            "_view_count": null,
            "_view_module_version": "1.5.0",
            "box_style": "",
            "layout": "IPY_MODEL_57c55f100fff4c24a9200eddff08c3ba",
            "_model_module": "@jupyter-widgets/controls",
            "children": [
              "IPY_MODEL_865bb48d956c43dca0f17f65c2222374",
              "IPY_MODEL_d8f1d8e60c9f49649aa713ae8d2bb575",
              "IPY_MODEL_b6537725d9974427b757c4b581cae713"
            ]
          }
        },
        "57c55f100fff4c24a9200eddff08c3ba": {
          "model_module": "@jupyter-widgets/base",
          "model_name": "LayoutModel",
          "model_module_version": "1.2.0",
          "state": {
            "_view_name": "LayoutView",
            "grid_template_rows": null,
            "right": null,
            "justify_content": null,
            "_view_module": "@jupyter-widgets/base",
            "overflow": null,
            "_model_module_version": "1.2.0",
            "_view_count": null,
            "flex_flow": null,
            "width": null,
            "min_width": null,
            "border": null,
            "align_items": null,
            "bottom": null,
            "_model_module": "@jupyter-widgets/base",
            "top": null,
            "grid_column": null,
            "overflow_y": null,
            "overflow_x": null,
            "grid_auto_flow": null,
            "grid_area": null,
            "grid_template_columns": null,
            "flex": null,
            "_model_name": "LayoutModel",
            "justify_items": null,
            "grid_row": null,
            "max_height": null,
            "align_content": null,
            "visibility": null,
            "align_self": null,
            "height": null,
            "min_height": null,
            "padding": null,
            "grid_auto_rows": null,
            "grid_gap": null,
            "max_width": null,
            "order": null,
            "_view_module_version": "1.2.0",
            "grid_template_areas": null,
            "object_position": null,
            "object_fit": null,
            "grid_auto_columns": null,
            "margin": null,
            "display": null,
            "left": null
          }
        },
        "865bb48d956c43dca0f17f65c2222374": {
          "model_module": "@jupyter-widgets/controls",
          "model_name": "HTMLModel",
          "model_module_version": "1.5.0",
          "state": {
            "_view_name": "HTMLView",
            "style": "IPY_MODEL_90842c73c95a44e8bd4c0b5617f19c79",
            "_dom_classes": [],
            "description": "",
            "_model_name": "HTMLModel",
            "placeholder": "​",
            "_view_module": "@jupyter-widgets/controls",
            "_model_module_version": "1.5.0",
            "value": "  0%",
            "_view_count": null,
            "_view_module_version": "1.5.0",
            "description_tooltip": null,
            "_model_module": "@jupyter-widgets/controls",
            "layout": "IPY_MODEL_2a9cc86c1a544ddb9de196961151cfe5"
          }
        },
        "d8f1d8e60c9f49649aa713ae8d2bb575": {
          "model_module": "@jupyter-widgets/controls",
          "model_name": "FloatProgressModel",
          "model_module_version": "1.5.0",
          "state": {
            "_view_name": "ProgressView",
            "style": "IPY_MODEL_27c15aa985b148558c292e36d56b7737",
            "_dom_classes": [],
            "description": "",
            "_model_name": "FloatProgressModel",
            "bar_style": "danger",
            "max": 1000000,
            "_view_module": "@jupyter-widgets/controls",
            "_model_module_version": "1.5.0",
            "value": 7,
            "_view_count": null,
            "_view_module_version": "1.5.0",
            "orientation": "horizontal",
            "min": 0,
            "description_tooltip": null,
            "_model_module": "@jupyter-widgets/controls",
            "layout": "IPY_MODEL_c3ee97a9b1b1442c9c0681c735abbf64"
          }
        },
        "b6537725d9974427b757c4b581cae713": {
          "model_module": "@jupyter-widgets/controls",
          "model_name": "HTMLModel",
          "model_module_version": "1.5.0",
          "state": {
            "_view_name": "HTMLView",
            "style": "IPY_MODEL_033ed4a7c29c44daae61283bd4f381c0",
            "_dom_classes": [],
            "description": "",
            "_model_name": "HTMLModel",
            "placeholder": "​",
            "_view_module": "@jupyter-widgets/controls",
            "_model_module_version": "1.5.0",
            "value": " 7/1000000 [00:09&lt;98:01:46,  2.83it/s]",
            "_view_count": null,
            "_view_module_version": "1.5.0",
            "description_tooltip": null,
            "_model_module": "@jupyter-widgets/controls",
            "layout": "IPY_MODEL_fb6b75b2a7bb4ee1849fc2fd2d3b4fbb"
          }
        },
        "90842c73c95a44e8bd4c0b5617f19c79": {
          "model_module": "@jupyter-widgets/controls",
          "model_name": "DescriptionStyleModel",
          "model_module_version": "1.5.0",
          "state": {
            "_view_name": "StyleView",
            "_model_name": "DescriptionStyleModel",
            "description_width": "",
            "_view_module": "@jupyter-widgets/base",
            "_model_module_version": "1.5.0",
            "_view_count": null,
            "_view_module_version": "1.2.0",
            "_model_module": "@jupyter-widgets/controls"
          }
        },
        "2a9cc86c1a544ddb9de196961151cfe5": {
          "model_module": "@jupyter-widgets/base",
          "model_name": "LayoutModel",
          "model_module_version": "1.2.0",
          "state": {
            "_view_name": "LayoutView",
            "grid_template_rows": null,
            "right": null,
            "justify_content": null,
            "_view_module": "@jupyter-widgets/base",
            "overflow": null,
            "_model_module_version": "1.2.0",
            "_view_count": null,
            "flex_flow": null,
            "width": null,
            "min_width": null,
            "border": null,
            "align_items": null,
            "bottom": null,
            "_model_module": "@jupyter-widgets/base",
            "top": null,
            "grid_column": null,
            "overflow_y": null,
            "overflow_x": null,
            "grid_auto_flow": null,
            "grid_area": null,
            "grid_template_columns": null,
            "flex": null,
            "_model_name": "LayoutModel",
            "justify_items": null,
            "grid_row": null,
            "max_height": null,
            "align_content": null,
            "visibility": null,
            "align_self": null,
            "height": null,
            "min_height": null,
            "padding": null,
            "grid_auto_rows": null,
            "grid_gap": null,
            "max_width": null,
            "order": null,
            "_view_module_version": "1.2.0",
            "grid_template_areas": null,
            "object_position": null,
            "object_fit": null,
            "grid_auto_columns": null,
            "margin": null,
            "display": null,
            "left": null
          }
        },
        "27c15aa985b148558c292e36d56b7737": {
          "model_module": "@jupyter-widgets/controls",
          "model_name": "ProgressStyleModel",
          "model_module_version": "1.5.0",
          "state": {
            "_view_name": "StyleView",
            "_model_name": "ProgressStyleModel",
            "description_width": "",
            "_view_module": "@jupyter-widgets/base",
            "_model_module_version": "1.5.0",
            "_view_count": null,
            "_view_module_version": "1.2.0",
            "bar_color": null,
            "_model_module": "@jupyter-widgets/controls"
          }
        },
        "c3ee97a9b1b1442c9c0681c735abbf64": {
          "model_module": "@jupyter-widgets/base",
          "model_name": "LayoutModel",
          "model_module_version": "1.2.0",
          "state": {
            "_view_name": "LayoutView",
            "grid_template_rows": null,
            "right": null,
            "justify_content": null,
            "_view_module": "@jupyter-widgets/base",
            "overflow": null,
            "_model_module_version": "1.2.0",
            "_view_count": null,
            "flex_flow": null,
            "width": null,
            "min_width": null,
            "border": null,
            "align_items": null,
            "bottom": null,
            "_model_module": "@jupyter-widgets/base",
            "top": null,
            "grid_column": null,
            "overflow_y": null,
            "overflow_x": null,
            "grid_auto_flow": null,
            "grid_area": null,
            "grid_template_columns": null,
            "flex": null,
            "_model_name": "LayoutModel",
            "justify_items": null,
            "grid_row": null,
            "max_height": null,
            "align_content": null,
            "visibility": null,
            "align_self": null,
            "height": null,
            "min_height": null,
            "padding": null,
            "grid_auto_rows": null,
            "grid_gap": null,
            "max_width": null,
            "order": null,
            "_view_module_version": "1.2.0",
            "grid_template_areas": null,
            "object_position": null,
            "object_fit": null,
            "grid_auto_columns": null,
            "margin": null,
            "display": null,
            "left": null
          }
        },
        "033ed4a7c29c44daae61283bd4f381c0": {
          "model_module": "@jupyter-widgets/controls",
          "model_name": "DescriptionStyleModel",
          "model_module_version": "1.5.0",
          "state": {
            "_view_name": "StyleView",
            "_model_name": "DescriptionStyleModel",
            "description_width": "",
            "_view_module": "@jupyter-widgets/base",
            "_model_module_version": "1.5.0",
            "_view_count": null,
            "_view_module_version": "1.2.0",
            "_model_module": "@jupyter-widgets/controls"
          }
        },
        "fb6b75b2a7bb4ee1849fc2fd2d3b4fbb": {
          "model_module": "@jupyter-widgets/base",
          "model_name": "LayoutModel",
          "model_module_version": "1.2.0",
          "state": {
            "_view_name": "LayoutView",
            "grid_template_rows": null,
            "right": null,
            "justify_content": null,
            "_view_module": "@jupyter-widgets/base",
            "overflow": null,
            "_model_module_version": "1.2.0",
            "_view_count": null,
            "flex_flow": null,
            "width": null,
            "min_width": null,
            "border": null,
            "align_items": null,
            "bottom": null,
            "_model_module": "@jupyter-widgets/base",
            "top": null,
            "grid_column": null,
            "overflow_y": null,
            "overflow_x": null,
            "grid_auto_flow": null,
            "grid_area": null,
            "grid_template_columns": null,
            "flex": null,
            "_model_name": "LayoutModel",
            "justify_items": null,
            "grid_row": null,
            "max_height": null,
            "align_content": null,
            "visibility": null,
            "align_self": null,
            "height": null,
            "min_height": null,
            "padding": null,
            "grid_auto_rows": null,
            "grid_gap": null,
            "max_width": null,
            "order": null,
            "_view_module_version": "1.2.0",
            "grid_template_areas": null,
            "object_position": null,
            "object_fit": null,
            "grid_auto_columns": null,
            "margin": null,
            "display": null,
            "left": null
          }
        },
        "4e397066f80848dc8eb973216c1ac2f6": {
          "model_module": "@jupyter-widgets/controls",
          "model_name": "HBoxModel",
          "model_module_version": "1.5.0",
          "state": {
            "_view_name": "HBoxView",
            "_dom_classes": [],
            "_model_name": "HBoxModel",
            "_view_module": "@jupyter-widgets/controls",
            "_model_module_version": "1.5.0",
            "_view_count": null,
            "_view_module_version": "1.5.0",
            "box_style": "",
            "layout": "IPY_MODEL_466e041fe37f4d2bbbf952495ffc77be",
            "_model_module": "@jupyter-widgets/controls",
            "children": [
              "IPY_MODEL_1bbb98beec314db3a6272988c472bed7",
              "IPY_MODEL_1ca158357b46451da2fe082c7adc89ef",
              "IPY_MODEL_3ae789b98ac9434fb9b7aa2ece1a8eea"
            ]
          }
        },
        "466e041fe37f4d2bbbf952495ffc77be": {
          "model_module": "@jupyter-widgets/base",
          "model_name": "LayoutModel",
          "model_module_version": "1.2.0",
          "state": {
            "_view_name": "LayoutView",
            "grid_template_rows": null,
            "right": null,
            "justify_content": null,
            "_view_module": "@jupyter-widgets/base",
            "overflow": null,
            "_model_module_version": "1.2.0",
            "_view_count": null,
            "flex_flow": null,
            "width": null,
            "min_width": null,
            "border": null,
            "align_items": null,
            "bottom": null,
            "_model_module": "@jupyter-widgets/base",
            "top": null,
            "grid_column": null,
            "overflow_y": null,
            "overflow_x": null,
            "grid_auto_flow": null,
            "grid_area": null,
            "grid_template_columns": null,
            "flex": null,
            "_model_name": "LayoutModel",
            "justify_items": null,
            "grid_row": null,
            "max_height": null,
            "align_content": null,
            "visibility": null,
            "align_self": null,
            "height": null,
            "min_height": null,
            "padding": null,
            "grid_auto_rows": null,
            "grid_gap": null,
            "max_width": null,
            "order": null,
            "_view_module_version": "1.2.0",
            "grid_template_areas": null,
            "object_position": null,
            "object_fit": null,
            "grid_auto_columns": null,
            "margin": null,
            "display": null,
            "left": null
          }
        },
        "1bbb98beec314db3a6272988c472bed7": {
          "model_module": "@jupyter-widgets/controls",
          "model_name": "HTMLModel",
          "model_module_version": "1.5.0",
          "state": {
            "_view_name": "HTMLView",
            "style": "IPY_MODEL_94b5faec620f4467b922c7f202b6148d",
            "_dom_classes": [],
            "description": "",
            "_model_name": "HTMLModel",
            "placeholder": "​",
            "_view_module": "@jupyter-widgets/controls",
            "_model_module_version": "1.5.0",
            "value": "  0%",
            "_view_count": null,
            "_view_module_version": "1.5.0",
            "description_tooltip": null,
            "_model_module": "@jupyter-widgets/controls",
            "layout": "IPY_MODEL_4013ad2102384b7394f9a1ada6cdad33"
          }
        },
        "1ca158357b46451da2fe082c7adc89ef": {
          "model_module": "@jupyter-widgets/controls",
          "model_name": "FloatProgressModel",
          "model_module_version": "1.5.0",
          "state": {
            "_view_name": "ProgressView",
            "style": "IPY_MODEL_4c1eaa2b37e941d7acb85e1e2f70ed4a",
            "_dom_classes": [],
            "description": "",
            "_model_name": "FloatProgressModel",
            "bar_style": "danger",
            "max": 1000000,
            "_view_module": "@jupyter-widgets/controls",
            "_model_module_version": "1.5.0",
            "value": 8,
            "_view_count": null,
            "_view_module_version": "1.5.0",
            "orientation": "horizontal",
            "min": 0,
            "description_tooltip": null,
            "_model_module": "@jupyter-widgets/controls",
            "layout": "IPY_MODEL_3853f49dcb12412297851d60639aaa84"
          }
        },
        "3ae789b98ac9434fb9b7aa2ece1a8eea": {
          "model_module": "@jupyter-widgets/controls",
          "model_name": "HTMLModel",
          "model_module_version": "1.5.0",
          "state": {
            "_view_name": "HTMLView",
            "style": "IPY_MODEL_630270ac6419479da0a26c8159a1250d",
            "_dom_classes": [],
            "description": "",
            "_model_name": "HTMLModel",
            "placeholder": "​",
            "_view_module": "@jupyter-widgets/controls",
            "_model_module_version": "1.5.0",
            "value": " 8/1000000 [00:13&lt;1008:53:06,  3.63s/it]",
            "_view_count": null,
            "_view_module_version": "1.5.0",
            "description_tooltip": null,
            "_model_module": "@jupyter-widgets/controls",
            "layout": "IPY_MODEL_57e9be103e694b1b9ab33447d3726097"
          }
        },
        "94b5faec620f4467b922c7f202b6148d": {
          "model_module": "@jupyter-widgets/controls",
          "model_name": "DescriptionStyleModel",
          "model_module_version": "1.5.0",
          "state": {
            "_view_name": "StyleView",
            "_model_name": "DescriptionStyleModel",
            "description_width": "",
            "_view_module": "@jupyter-widgets/base",
            "_model_module_version": "1.5.0",
            "_view_count": null,
            "_view_module_version": "1.2.0",
            "_model_module": "@jupyter-widgets/controls"
          }
        },
        "4013ad2102384b7394f9a1ada6cdad33": {
          "model_module": "@jupyter-widgets/base",
          "model_name": "LayoutModel",
          "model_module_version": "1.2.0",
          "state": {
            "_view_name": "LayoutView",
            "grid_template_rows": null,
            "right": null,
            "justify_content": null,
            "_view_module": "@jupyter-widgets/base",
            "overflow": null,
            "_model_module_version": "1.2.0",
            "_view_count": null,
            "flex_flow": null,
            "width": null,
            "min_width": null,
            "border": null,
            "align_items": null,
            "bottom": null,
            "_model_module": "@jupyter-widgets/base",
            "top": null,
            "grid_column": null,
            "overflow_y": null,
            "overflow_x": null,
            "grid_auto_flow": null,
            "grid_area": null,
            "grid_template_columns": null,
            "flex": null,
            "_model_name": "LayoutModel",
            "justify_items": null,
            "grid_row": null,
            "max_height": null,
            "align_content": null,
            "visibility": null,
            "align_self": null,
            "height": null,
            "min_height": null,
            "padding": null,
            "grid_auto_rows": null,
            "grid_gap": null,
            "max_width": null,
            "order": null,
            "_view_module_version": "1.2.0",
            "grid_template_areas": null,
            "object_position": null,
            "object_fit": null,
            "grid_auto_columns": null,
            "margin": null,
            "display": null,
            "left": null
          }
        },
        "4c1eaa2b37e941d7acb85e1e2f70ed4a": {
          "model_module": "@jupyter-widgets/controls",
          "model_name": "ProgressStyleModel",
          "model_module_version": "1.5.0",
          "state": {
            "_view_name": "StyleView",
            "_model_name": "ProgressStyleModel",
            "description_width": "",
            "_view_module": "@jupyter-widgets/base",
            "_model_module_version": "1.5.0",
            "_view_count": null,
            "_view_module_version": "1.2.0",
            "bar_color": null,
            "_model_module": "@jupyter-widgets/controls"
          }
        },
        "3853f49dcb12412297851d60639aaa84": {
          "model_module": "@jupyter-widgets/base",
          "model_name": "LayoutModel",
          "model_module_version": "1.2.0",
          "state": {
            "_view_name": "LayoutView",
            "grid_template_rows": null,
            "right": null,
            "justify_content": null,
            "_view_module": "@jupyter-widgets/base",
            "overflow": null,
            "_model_module_version": "1.2.0",
            "_view_count": null,
            "flex_flow": null,
            "width": null,
            "min_width": null,
            "border": null,
            "align_items": null,
            "bottom": null,
            "_model_module": "@jupyter-widgets/base",
            "top": null,
            "grid_column": null,
            "overflow_y": null,
            "overflow_x": null,
            "grid_auto_flow": null,
            "grid_area": null,
            "grid_template_columns": null,
            "flex": null,
            "_model_name": "LayoutModel",
            "justify_items": null,
            "grid_row": null,
            "max_height": null,
            "align_content": null,
            "visibility": null,
            "align_self": null,
            "height": null,
            "min_height": null,
            "padding": null,
            "grid_auto_rows": null,
            "grid_gap": null,
            "max_width": null,
            "order": null,
            "_view_module_version": "1.2.0",
            "grid_template_areas": null,
            "object_position": null,
            "object_fit": null,
            "grid_auto_columns": null,
            "margin": null,
            "display": null,
            "left": null
          }
        },
        "630270ac6419479da0a26c8159a1250d": {
          "model_module": "@jupyter-widgets/controls",
          "model_name": "DescriptionStyleModel",
          "model_module_version": "1.5.0",
          "state": {
            "_view_name": "StyleView",
            "_model_name": "DescriptionStyleModel",
            "description_width": "",
            "_view_module": "@jupyter-widgets/base",
            "_model_module_version": "1.5.0",
            "_view_count": null,
            "_view_module_version": "1.2.0",
            "_model_module": "@jupyter-widgets/controls"
          }
        },
        "57e9be103e694b1b9ab33447d3726097": {
          "model_module": "@jupyter-widgets/base",
          "model_name": "LayoutModel",
          "model_module_version": "1.2.0",
          "state": {
            "_view_name": "LayoutView",
            "grid_template_rows": null,
            "right": null,
            "justify_content": null,
            "_view_module": "@jupyter-widgets/base",
            "overflow": null,
            "_model_module_version": "1.2.0",
            "_view_count": null,
            "flex_flow": null,
            "width": null,
            "min_width": null,
            "border": null,
            "align_items": null,
            "bottom": null,
            "_model_module": "@jupyter-widgets/base",
            "top": null,
            "grid_column": null,
            "overflow_y": null,
            "overflow_x": null,
            "grid_auto_flow": null,
            "grid_area": null,
            "grid_template_columns": null,
            "flex": null,
            "_model_name": "LayoutModel",
            "justify_items": null,
            "grid_row": null,
            "max_height": null,
            "align_content": null,
            "visibility": null,
            "align_self": null,
            "height": null,
            "min_height": null,
            "padding": null,
            "grid_auto_rows": null,
            "grid_gap": null,
            "max_width": null,
            "order": null,
            "_view_module_version": "1.2.0",
            "grid_template_areas": null,
            "object_position": null,
            "object_fit": null,
            "grid_auto_columns": null,
            "margin": null,
            "display": null,
            "left": null
          }
        },
        "3947a0dd181e49379c4d70e2f2dd7ac6": {
          "model_module": "@jupyter-widgets/controls",
          "model_name": "HBoxModel",
          "model_module_version": "1.5.0",
          "state": {
            "_view_name": "HBoxView",
            "_dom_classes": [],
            "_model_name": "HBoxModel",
            "_view_module": "@jupyter-widgets/controls",
            "_model_module_version": "1.5.0",
            "_view_count": null,
            "_view_module_version": "1.5.0",
            "box_style": "",
            "layout": "IPY_MODEL_d7f7856919e949bd8d05911a472490fe",
            "_model_module": "@jupyter-widgets/controls",
            "children": [
              "IPY_MODEL_bfceb72673df4be3b26575fd93e04292",
              "IPY_MODEL_6f2ff3c20dd3447497b314a911bcd847",
              "IPY_MODEL_f30eb4544cd848a29e92aad797f50cfa"
            ]
          }
        },
        "d7f7856919e949bd8d05911a472490fe": {
          "model_module": "@jupyter-widgets/base",
          "model_name": "LayoutModel",
          "model_module_version": "1.2.0",
          "state": {
            "_view_name": "LayoutView",
            "grid_template_rows": null,
            "right": null,
            "justify_content": null,
            "_view_module": "@jupyter-widgets/base",
            "overflow": null,
            "_model_module_version": "1.2.0",
            "_view_count": null,
            "flex_flow": null,
            "width": null,
            "min_width": null,
            "border": null,
            "align_items": null,
            "bottom": null,
            "_model_module": "@jupyter-widgets/base",
            "top": null,
            "grid_column": null,
            "overflow_y": null,
            "overflow_x": null,
            "grid_auto_flow": null,
            "grid_area": null,
            "grid_template_columns": null,
            "flex": null,
            "_model_name": "LayoutModel",
            "justify_items": null,
            "grid_row": null,
            "max_height": null,
            "align_content": null,
            "visibility": null,
            "align_self": null,
            "height": null,
            "min_height": null,
            "padding": null,
            "grid_auto_rows": null,
            "grid_gap": null,
            "max_width": null,
            "order": null,
            "_view_module_version": "1.2.0",
            "grid_template_areas": null,
            "object_position": null,
            "object_fit": null,
            "grid_auto_columns": null,
            "margin": null,
            "display": null,
            "left": null
          }
        },
        "bfceb72673df4be3b26575fd93e04292": {
          "model_module": "@jupyter-widgets/controls",
          "model_name": "HTMLModel",
          "model_module_version": "1.5.0",
          "state": {
            "_view_name": "HTMLView",
            "style": "IPY_MODEL_55239fdbbced43588a73c5934eded077",
            "_dom_classes": [],
            "description": "",
            "_model_name": "HTMLModel",
            "placeholder": "​",
            "_view_module": "@jupyter-widgets/controls",
            "_model_module_version": "1.5.0",
            "value": "  0%",
            "_view_count": null,
            "_view_module_version": "1.5.0",
            "description_tooltip": null,
            "_model_module": "@jupyter-widgets/controls",
            "layout": "IPY_MODEL_375eeeac75d7472e93962894e7711029"
          }
        },
        "6f2ff3c20dd3447497b314a911bcd847": {
          "model_module": "@jupyter-widgets/controls",
          "model_name": "FloatProgressModel",
          "model_module_version": "1.5.0",
          "state": {
            "_view_name": "ProgressView",
            "style": "IPY_MODEL_e6d805bd06b64fd69fddd80b8ab61c91",
            "_dom_classes": [],
            "description": "",
            "_model_name": "FloatProgressModel",
            "bar_style": "danger",
            "max": 1000000,
            "_view_module": "@jupyter-widgets/controls",
            "_model_module_version": "1.5.0",
            "value": 6,
            "_view_count": null,
            "_view_module_version": "1.5.0",
            "orientation": "horizontal",
            "min": 0,
            "description_tooltip": null,
            "_model_module": "@jupyter-widgets/controls",
            "layout": "IPY_MODEL_d87973f0aec84c7b80ddd5123ddbfe9c"
          }
        },
        "f30eb4544cd848a29e92aad797f50cfa": {
          "model_module": "@jupyter-widgets/controls",
          "model_name": "HTMLModel",
          "model_module_version": "1.5.0",
          "state": {
            "_view_name": "HTMLView",
            "style": "IPY_MODEL_939f085d09e34d31be12732d37e102ae",
            "_dom_classes": [],
            "description": "",
            "_model_name": "HTMLModel",
            "placeholder": "​",
            "_view_module": "@jupyter-widgets/controls",
            "_model_module_version": "1.5.0",
            "value": " 6/1000000 [00:01&lt;43:48:11,  6.34it/s]",
            "_view_count": null,
            "_view_module_version": "1.5.0",
            "description_tooltip": null,
            "_model_module": "@jupyter-widgets/controls",
            "layout": "IPY_MODEL_dc131fa424904127a114a402d817224d"
          }
        },
        "55239fdbbced43588a73c5934eded077": {
          "model_module": "@jupyter-widgets/controls",
          "model_name": "DescriptionStyleModel",
          "model_module_version": "1.5.0",
          "state": {
            "_view_name": "StyleView",
            "_model_name": "DescriptionStyleModel",
            "description_width": "",
            "_view_module": "@jupyter-widgets/base",
            "_model_module_version": "1.5.0",
            "_view_count": null,
            "_view_module_version": "1.2.0",
            "_model_module": "@jupyter-widgets/controls"
          }
        },
        "375eeeac75d7472e93962894e7711029": {
          "model_module": "@jupyter-widgets/base",
          "model_name": "LayoutModel",
          "model_module_version": "1.2.0",
          "state": {
            "_view_name": "LayoutView",
            "grid_template_rows": null,
            "right": null,
            "justify_content": null,
            "_view_module": "@jupyter-widgets/base",
            "overflow": null,
            "_model_module_version": "1.2.0",
            "_view_count": null,
            "flex_flow": null,
            "width": null,
            "min_width": null,
            "border": null,
            "align_items": null,
            "bottom": null,
            "_model_module": "@jupyter-widgets/base",
            "top": null,
            "grid_column": null,
            "overflow_y": null,
            "overflow_x": null,
            "grid_auto_flow": null,
            "grid_area": null,
            "grid_template_columns": null,
            "flex": null,
            "_model_name": "LayoutModel",
            "justify_items": null,
            "grid_row": null,
            "max_height": null,
            "align_content": null,
            "visibility": null,
            "align_self": null,
            "height": null,
            "min_height": null,
            "padding": null,
            "grid_auto_rows": null,
            "grid_gap": null,
            "max_width": null,
            "order": null,
            "_view_module_version": "1.2.0",
            "grid_template_areas": null,
            "object_position": null,
            "object_fit": null,
            "grid_auto_columns": null,
            "margin": null,
            "display": null,
            "left": null
          }
        },
        "e6d805bd06b64fd69fddd80b8ab61c91": {
          "model_module": "@jupyter-widgets/controls",
          "model_name": "ProgressStyleModel",
          "model_module_version": "1.5.0",
          "state": {
            "_view_name": "StyleView",
            "_model_name": "ProgressStyleModel",
            "description_width": "",
            "_view_module": "@jupyter-widgets/base",
            "_model_module_version": "1.5.0",
            "_view_count": null,
            "_view_module_version": "1.2.0",
            "bar_color": null,
            "_model_module": "@jupyter-widgets/controls"
          }
        },
        "d87973f0aec84c7b80ddd5123ddbfe9c": {
          "model_module": "@jupyter-widgets/base",
          "model_name": "LayoutModel",
          "model_module_version": "1.2.0",
          "state": {
            "_view_name": "LayoutView",
            "grid_template_rows": null,
            "right": null,
            "justify_content": null,
            "_view_module": "@jupyter-widgets/base",
            "overflow": null,
            "_model_module_version": "1.2.0",
            "_view_count": null,
            "flex_flow": null,
            "width": null,
            "min_width": null,
            "border": null,
            "align_items": null,
            "bottom": null,
            "_model_module": "@jupyter-widgets/base",
            "top": null,
            "grid_column": null,
            "overflow_y": null,
            "overflow_x": null,
            "grid_auto_flow": null,
            "grid_area": null,
            "grid_template_columns": null,
            "flex": null,
            "_model_name": "LayoutModel",
            "justify_items": null,
            "grid_row": null,
            "max_height": null,
            "align_content": null,
            "visibility": null,
            "align_self": null,
            "height": null,
            "min_height": null,
            "padding": null,
            "grid_auto_rows": null,
            "grid_gap": null,
            "max_width": null,
            "order": null,
            "_view_module_version": "1.2.0",
            "grid_template_areas": null,
            "object_position": null,
            "object_fit": null,
            "grid_auto_columns": null,
            "margin": null,
            "display": null,
            "left": null
          }
        },
        "939f085d09e34d31be12732d37e102ae": {
          "model_module": "@jupyter-widgets/controls",
          "model_name": "DescriptionStyleModel",
          "model_module_version": "1.5.0",
          "state": {
            "_view_name": "StyleView",
            "_model_name": "DescriptionStyleModel",
            "description_width": "",
            "_view_module": "@jupyter-widgets/base",
            "_model_module_version": "1.5.0",
            "_view_count": null,
            "_view_module_version": "1.2.0",
            "_model_module": "@jupyter-widgets/controls"
          }
        },
        "dc131fa424904127a114a402d817224d": {
          "model_module": "@jupyter-widgets/base",
          "model_name": "LayoutModel",
          "model_module_version": "1.2.0",
          "state": {
            "_view_name": "LayoutView",
            "grid_template_rows": null,
            "right": null,
            "justify_content": null,
            "_view_module": "@jupyter-widgets/base",
            "overflow": null,
            "_model_module_version": "1.2.0",
            "_view_count": null,
            "flex_flow": null,
            "width": null,
            "min_width": null,
            "border": null,
            "align_items": null,
            "bottom": null,
            "_model_module": "@jupyter-widgets/base",
            "top": null,
            "grid_column": null,
            "overflow_y": null,
            "overflow_x": null,
            "grid_auto_flow": null,
            "grid_area": null,
            "grid_template_columns": null,
            "flex": null,
            "_model_name": "LayoutModel",
            "justify_items": null,
            "grid_row": null,
            "max_height": null,
            "align_content": null,
            "visibility": null,
            "align_self": null,
            "height": null,
            "min_height": null,
            "padding": null,
            "grid_auto_rows": null,
            "grid_gap": null,
            "max_width": null,
            "order": null,
            "_view_module_version": "1.2.0",
            "grid_template_areas": null,
            "object_position": null,
            "object_fit": null,
            "grid_auto_columns": null,
            "margin": null,
            "display": null,
            "left": null
          }
        },
        "5c60a7bba70545488477b471114857b8": {
          "model_module": "@jupyter-widgets/controls",
          "model_name": "HBoxModel",
          "model_module_version": "1.5.0",
          "state": {
            "_view_name": "HBoxView",
            "_dom_classes": [],
            "_model_name": "HBoxModel",
            "_view_module": "@jupyter-widgets/controls",
            "_model_module_version": "1.5.0",
            "_view_count": null,
            "_view_module_version": "1.5.0",
            "box_style": "",
            "layout": "IPY_MODEL_738784d2b2c5413482f40352ef6e5680",
            "_model_module": "@jupyter-widgets/controls",
            "children": [
              "IPY_MODEL_406a436330ff47bfb6fa317276a90fe2",
              "IPY_MODEL_9dce9b2769fc46dabdb3783ff4df4681",
              "IPY_MODEL_3d1c754b6e7f42bea2cf0612c5358109"
            ]
          }
        },
        "738784d2b2c5413482f40352ef6e5680": {
          "model_module": "@jupyter-widgets/base",
          "model_name": "LayoutModel",
          "model_module_version": "1.2.0",
          "state": {
            "_view_name": "LayoutView",
            "grid_template_rows": null,
            "right": null,
            "justify_content": null,
            "_view_module": "@jupyter-widgets/base",
            "overflow": null,
            "_model_module_version": "1.2.0",
            "_view_count": null,
            "flex_flow": null,
            "width": null,
            "min_width": null,
            "border": null,
            "align_items": null,
            "bottom": null,
            "_model_module": "@jupyter-widgets/base",
            "top": null,
            "grid_column": null,
            "overflow_y": null,
            "overflow_x": null,
            "grid_auto_flow": null,
            "grid_area": null,
            "grid_template_columns": null,
            "flex": null,
            "_model_name": "LayoutModel",
            "justify_items": null,
            "grid_row": null,
            "max_height": null,
            "align_content": null,
            "visibility": null,
            "align_self": null,
            "height": null,
            "min_height": null,
            "padding": null,
            "grid_auto_rows": null,
            "grid_gap": null,
            "max_width": null,
            "order": null,
            "_view_module_version": "1.2.0",
            "grid_template_areas": null,
            "object_position": null,
            "object_fit": null,
            "grid_auto_columns": null,
            "margin": null,
            "display": null,
            "left": null
          }
        },
        "406a436330ff47bfb6fa317276a90fe2": {
          "model_module": "@jupyter-widgets/controls",
          "model_name": "HTMLModel",
          "model_module_version": "1.5.0",
          "state": {
            "_view_name": "HTMLView",
            "style": "IPY_MODEL_f4ea1d58a5254ffda1cd2c74867cc976",
            "_dom_classes": [],
            "description": "",
            "_model_name": "HTMLModel",
            "placeholder": "​",
            "_view_module": "@jupyter-widgets/controls",
            "_model_module_version": "1.5.0",
            "value": "Generating for node: Country: 100%",
            "_view_count": null,
            "_view_module_version": "1.5.0",
            "description_tooltip": null,
            "_model_module": "@jupyter-widgets/controls",
            "layout": "IPY_MODEL_3c40588772e04e4399c315e60c91805f"
          }
        },
        "9dce9b2769fc46dabdb3783ff4df4681": {
          "model_module": "@jupyter-widgets/controls",
          "model_name": "FloatProgressModel",
          "model_module_version": "1.5.0",
          "state": {
            "_view_name": "ProgressView",
            "style": "IPY_MODEL_56a8aed9de474499ae54f7896428a305",
            "_dom_classes": [],
            "description": "",
            "_model_name": "FloatProgressModel",
            "bar_style": "success",
            "max": 10,
            "_view_module": "@jupyter-widgets/controls",
            "_model_module_version": "1.5.0",
            "value": 10,
            "_view_count": null,
            "_view_module_version": "1.5.0",
            "orientation": "horizontal",
            "min": 0,
            "description_tooltip": null,
            "_model_module": "@jupyter-widgets/controls",
            "layout": "IPY_MODEL_a53a3eb60b88494e8dd1727943865321"
          }
        },
        "3d1c754b6e7f42bea2cf0612c5358109": {
          "model_module": "@jupyter-widgets/controls",
          "model_name": "HTMLModel",
          "model_module_version": "1.5.0",
          "state": {
            "_view_name": "HTMLView",
            "style": "IPY_MODEL_4d3e4b9dda6c44e3bea0388658e26eec",
            "_dom_classes": [],
            "description": "",
            "_model_name": "HTMLModel",
            "placeholder": "​",
            "_view_module": "@jupyter-widgets/controls",
            "_model_module_version": "1.5.0",
            "value": " 10/10 [00:23&lt;00:00,  3.38s/it]",
            "_view_count": null,
            "_view_module_version": "1.5.0",
            "description_tooltip": null,
            "_model_module": "@jupyter-widgets/controls",
            "layout": "IPY_MODEL_0f6a93018bc542ed9226be1a69ed7051"
          }
        },
        "f4ea1d58a5254ffda1cd2c74867cc976": {
          "model_module": "@jupyter-widgets/controls",
          "model_name": "DescriptionStyleModel",
          "model_module_version": "1.5.0",
          "state": {
            "_view_name": "StyleView",
            "_model_name": "DescriptionStyleModel",
            "description_width": "",
            "_view_module": "@jupyter-widgets/base",
            "_model_module_version": "1.5.0",
            "_view_count": null,
            "_view_module_version": "1.2.0",
            "_model_module": "@jupyter-widgets/controls"
          }
        },
        "3c40588772e04e4399c315e60c91805f": {
          "model_module": "@jupyter-widgets/base",
          "model_name": "LayoutModel",
          "model_module_version": "1.2.0",
          "state": {
            "_view_name": "LayoutView",
            "grid_template_rows": null,
            "right": null,
            "justify_content": null,
            "_view_module": "@jupyter-widgets/base",
            "overflow": null,
            "_model_module_version": "1.2.0",
            "_view_count": null,
            "flex_flow": null,
            "width": null,
            "min_width": null,
            "border": null,
            "align_items": null,
            "bottom": null,
            "_model_module": "@jupyter-widgets/base",
            "top": null,
            "grid_column": null,
            "overflow_y": null,
            "overflow_x": null,
            "grid_auto_flow": null,
            "grid_area": null,
            "grid_template_columns": null,
            "flex": null,
            "_model_name": "LayoutModel",
            "justify_items": null,
            "grid_row": null,
            "max_height": null,
            "align_content": null,
            "visibility": null,
            "align_self": null,
            "height": null,
            "min_height": null,
            "padding": null,
            "grid_auto_rows": null,
            "grid_gap": null,
            "max_width": null,
            "order": null,
            "_view_module_version": "1.2.0",
            "grid_template_areas": null,
            "object_position": null,
            "object_fit": null,
            "grid_auto_columns": null,
            "margin": null,
            "display": null,
            "left": null
          }
        },
        "56a8aed9de474499ae54f7896428a305": {
          "model_module": "@jupyter-widgets/controls",
          "model_name": "ProgressStyleModel",
          "model_module_version": "1.5.0",
          "state": {
            "_view_name": "StyleView",
            "_model_name": "ProgressStyleModel",
            "description_width": "",
            "_view_module": "@jupyter-widgets/base",
            "_model_module_version": "1.5.0",
            "_view_count": null,
            "_view_module_version": "1.2.0",
            "bar_color": null,
            "_model_module": "@jupyter-widgets/controls"
          }
        },
        "a53a3eb60b88494e8dd1727943865321": {
          "model_module": "@jupyter-widgets/base",
          "model_name": "LayoutModel",
          "model_module_version": "1.2.0",
          "state": {
            "_view_name": "LayoutView",
            "grid_template_rows": null,
            "right": null,
            "justify_content": null,
            "_view_module": "@jupyter-widgets/base",
            "overflow": null,
            "_model_module_version": "1.2.0",
            "_view_count": null,
            "flex_flow": null,
            "width": null,
            "min_width": null,
            "border": null,
            "align_items": null,
            "bottom": null,
            "_model_module": "@jupyter-widgets/base",
            "top": null,
            "grid_column": null,
            "overflow_y": null,
            "overflow_x": null,
            "grid_auto_flow": null,
            "grid_area": null,
            "grid_template_columns": null,
            "flex": null,
            "_model_name": "LayoutModel",
            "justify_items": null,
            "grid_row": null,
            "max_height": null,
            "align_content": null,
            "visibility": null,
            "align_self": null,
            "height": null,
            "min_height": null,
            "padding": null,
            "grid_auto_rows": null,
            "grid_gap": null,
            "max_width": null,
            "order": null,
            "_view_module_version": "1.2.0",
            "grid_template_areas": null,
            "object_position": null,
            "object_fit": null,
            "grid_auto_columns": null,
            "margin": null,
            "display": null,
            "left": null
          }
        },
        "4d3e4b9dda6c44e3bea0388658e26eec": {
          "model_module": "@jupyter-widgets/controls",
          "model_name": "DescriptionStyleModel",
          "model_module_version": "1.5.0",
          "state": {
            "_view_name": "StyleView",
            "_model_name": "DescriptionStyleModel",
            "description_width": "",
            "_view_module": "@jupyter-widgets/base",
            "_model_module_version": "1.5.0",
            "_view_count": null,
            "_view_module_version": "1.2.0",
            "_model_module": "@jupyter-widgets/controls"
          }
        },
        "0f6a93018bc542ed9226be1a69ed7051": {
          "model_module": "@jupyter-widgets/base",
          "model_name": "LayoutModel",
          "model_module_version": "1.2.0",
          "state": {
            "_view_name": "LayoutView",
            "grid_template_rows": null,
            "right": null,
            "justify_content": null,
            "_view_module": "@jupyter-widgets/base",
            "overflow": null,
            "_model_module_version": "1.2.0",
            "_view_count": null,
            "flex_flow": null,
            "width": null,
            "min_width": null,
            "border": null,
            "align_items": null,
            "bottom": null,
            "_model_module": "@jupyter-widgets/base",
            "top": null,
            "grid_column": null,
            "overflow_y": null,
            "overflow_x": null,
            "grid_auto_flow": null,
            "grid_area": null,
            "grid_template_columns": null,
            "flex": null,
            "_model_name": "LayoutModel",
            "justify_items": null,
            "grid_row": null,
            "max_height": null,
            "align_content": null,
            "visibility": null,
            "align_self": null,
            "height": null,
            "min_height": null,
            "padding": null,
            "grid_auto_rows": null,
            "grid_gap": null,
            "max_width": null,
            "order": null,
            "_view_module_version": "1.2.0",
            "grid_template_areas": null,
            "object_position": null,
            "object_fit": null,
            "grid_auto_columns": null,
            "margin": null,
            "display": null,
            "left": null
          }
        },
        "aae340b0f6d04c6d9ef1ad0f8b4cd1ee": {
          "model_module": "@jupyter-widgets/controls",
          "model_name": "HBoxModel",
          "model_module_version": "1.5.0",
          "state": {
            "_view_name": "HBoxView",
            "_dom_classes": [],
            "_model_name": "HBoxModel",
            "_view_module": "@jupyter-widgets/controls",
            "_model_module_version": "1.5.0",
            "_view_count": null,
            "_view_module_version": "1.5.0",
            "box_style": "",
            "layout": "IPY_MODEL_71578ab803124cfbbf70099f822f1197",
            "_model_module": "@jupyter-widgets/controls",
            "children": [
              "IPY_MODEL_a7e2952b985a4a588360aae842830911",
              "IPY_MODEL_845ce612622146b88f34ca9bcaf0b840",
              "IPY_MODEL_7e09f17fea6144d684a7987d6a6aadad"
            ]
          }
        },
        "71578ab803124cfbbf70099f822f1197": {
          "model_module": "@jupyter-widgets/base",
          "model_name": "LayoutModel",
          "model_module_version": "1.2.0",
          "state": {
            "_view_name": "LayoutView",
            "grid_template_rows": null,
            "right": null,
            "justify_content": null,
            "_view_module": "@jupyter-widgets/base",
            "overflow": null,
            "_model_module_version": "1.2.0",
            "_view_count": null,
            "flex_flow": null,
            "width": null,
            "min_width": null,
            "border": null,
            "align_items": null,
            "bottom": null,
            "_model_module": "@jupyter-widgets/base",
            "top": null,
            "grid_column": null,
            "overflow_y": null,
            "overflow_x": null,
            "grid_auto_flow": null,
            "grid_area": null,
            "grid_template_columns": null,
            "flex": null,
            "_model_name": "LayoutModel",
            "justify_items": null,
            "grid_row": null,
            "max_height": null,
            "align_content": null,
            "visibility": null,
            "align_self": null,
            "height": null,
            "min_height": null,
            "padding": null,
            "grid_auto_rows": null,
            "grid_gap": null,
            "max_width": null,
            "order": null,
            "_view_module_version": "1.2.0",
            "grid_template_areas": null,
            "object_position": null,
            "object_fit": null,
            "grid_auto_columns": null,
            "margin": null,
            "display": null,
            "left": null
          }
        },
        "a7e2952b985a4a588360aae842830911": {
          "model_module": "@jupyter-widgets/controls",
          "model_name": "HTMLModel",
          "model_module_version": "1.5.0",
          "state": {
            "_view_name": "HTMLView",
            "style": "IPY_MODEL_b0fb6307ad064a4aa438ea1ef7282a9a",
            "_dom_classes": [],
            "description": "",
            "_model_name": "HTMLModel",
            "placeholder": "​",
            "_view_module": "@jupyter-widgets/controls",
            "_model_module_version": "1.5.0",
            "value": "Generating for node: Country: 100%",
            "_view_count": null,
            "_view_module_version": "1.5.0",
            "description_tooltip": null,
            "_model_module": "@jupyter-widgets/controls",
            "layout": "IPY_MODEL_bcf2aad303434046bf6052f8ab6e22ac"
          }
        },
        "845ce612622146b88f34ca9bcaf0b840": {
          "model_module": "@jupyter-widgets/controls",
          "model_name": "FloatProgressModel",
          "model_module_version": "1.5.0",
          "state": {
            "_view_name": "ProgressView",
            "style": "IPY_MODEL_49e666d1eb3549bfbb702fbc05c2da53",
            "_dom_classes": [],
            "description": "",
            "_model_name": "FloatProgressModel",
            "bar_style": "success",
            "max": 8,
            "_view_module": "@jupyter-widgets/controls",
            "_model_module_version": "1.5.0",
            "value": 8,
            "_view_count": null,
            "_view_module_version": "1.5.0",
            "orientation": "horizontal",
            "min": 0,
            "description_tooltip": null,
            "_model_module": "@jupyter-widgets/controls",
            "layout": "IPY_MODEL_f462cc6fe2154ff0a02973810a461395"
          }
        },
        "7e09f17fea6144d684a7987d6a6aadad": {
          "model_module": "@jupyter-widgets/controls",
          "model_name": "HTMLModel",
          "model_module_version": "1.5.0",
          "state": {
            "_view_name": "HTMLView",
            "style": "IPY_MODEL_b4bf666660b4405b8f98ac6ed4f9bd42",
            "_dom_classes": [],
            "description": "",
            "_model_name": "HTMLModel",
            "placeholder": "​",
            "_view_module": "@jupyter-widgets/controls",
            "_model_module_version": "1.5.0",
            "value": " 8/8 [00:23&lt;00:00,  3.31s/it]",
            "_view_count": null,
            "_view_module_version": "1.5.0",
            "description_tooltip": null,
            "_model_module": "@jupyter-widgets/controls",
            "layout": "IPY_MODEL_c38575c4e5954f9a9fc2d4c84628deee"
          }
        },
        "b0fb6307ad064a4aa438ea1ef7282a9a": {
          "model_module": "@jupyter-widgets/controls",
          "model_name": "DescriptionStyleModel",
          "model_module_version": "1.5.0",
          "state": {
            "_view_name": "StyleView",
            "_model_name": "DescriptionStyleModel",
            "description_width": "",
            "_view_module": "@jupyter-widgets/base",
            "_model_module_version": "1.5.0",
            "_view_count": null,
            "_view_module_version": "1.2.0",
            "_model_module": "@jupyter-widgets/controls"
          }
        },
        "bcf2aad303434046bf6052f8ab6e22ac": {
          "model_module": "@jupyter-widgets/base",
          "model_name": "LayoutModel",
          "model_module_version": "1.2.0",
          "state": {
            "_view_name": "LayoutView",
            "grid_template_rows": null,
            "right": null,
            "justify_content": null,
            "_view_module": "@jupyter-widgets/base",
            "overflow": null,
            "_model_module_version": "1.2.0",
            "_view_count": null,
            "flex_flow": null,
            "width": null,
            "min_width": null,
            "border": null,
            "align_items": null,
            "bottom": null,
            "_model_module": "@jupyter-widgets/base",
            "top": null,
            "grid_column": null,
            "overflow_y": null,
            "overflow_x": null,
            "grid_auto_flow": null,
            "grid_area": null,
            "grid_template_columns": null,
            "flex": null,
            "_model_name": "LayoutModel",
            "justify_items": null,
            "grid_row": null,
            "max_height": null,
            "align_content": null,
            "visibility": null,
            "align_self": null,
            "height": null,
            "min_height": null,
            "padding": null,
            "grid_auto_rows": null,
            "grid_gap": null,
            "max_width": null,
            "order": null,
            "_view_module_version": "1.2.0",
            "grid_template_areas": null,
            "object_position": null,
            "object_fit": null,
            "grid_auto_columns": null,
            "margin": null,
            "display": null,
            "left": null
          }
        },
        "49e666d1eb3549bfbb702fbc05c2da53": {
          "model_module": "@jupyter-widgets/controls",
          "model_name": "ProgressStyleModel",
          "model_module_version": "1.5.0",
          "state": {
            "_view_name": "StyleView",
            "_model_name": "ProgressStyleModel",
            "description_width": "",
            "_view_module": "@jupyter-widgets/base",
            "_model_module_version": "1.5.0",
            "_view_count": null,
            "_view_module_version": "1.2.0",
            "bar_color": null,
            "_model_module": "@jupyter-widgets/controls"
          }
        },
        "f462cc6fe2154ff0a02973810a461395": {
          "model_module": "@jupyter-widgets/base",
          "model_name": "LayoutModel",
          "model_module_version": "1.2.0",
          "state": {
            "_view_name": "LayoutView",
            "grid_template_rows": null,
            "right": null,
            "justify_content": null,
            "_view_module": "@jupyter-widgets/base",
            "overflow": null,
            "_model_module_version": "1.2.0",
            "_view_count": null,
            "flex_flow": null,
            "width": null,
            "min_width": null,
            "border": null,
            "align_items": null,
            "bottom": null,
            "_model_module": "@jupyter-widgets/base",
            "top": null,
            "grid_column": null,
            "overflow_y": null,
            "overflow_x": null,
            "grid_auto_flow": null,
            "grid_area": null,
            "grid_template_columns": null,
            "flex": null,
            "_model_name": "LayoutModel",
            "justify_items": null,
            "grid_row": null,
            "max_height": null,
            "align_content": null,
            "visibility": null,
            "align_self": null,
            "height": null,
            "min_height": null,
            "padding": null,
            "grid_auto_rows": null,
            "grid_gap": null,
            "max_width": null,
            "order": null,
            "_view_module_version": "1.2.0",
            "grid_template_areas": null,
            "object_position": null,
            "object_fit": null,
            "grid_auto_columns": null,
            "margin": null,
            "display": null,
            "left": null
          }
        },
        "b4bf666660b4405b8f98ac6ed4f9bd42": {
          "model_module": "@jupyter-widgets/controls",
          "model_name": "DescriptionStyleModel",
          "model_module_version": "1.5.0",
          "state": {
            "_view_name": "StyleView",
            "_model_name": "DescriptionStyleModel",
            "description_width": "",
            "_view_module": "@jupyter-widgets/base",
            "_model_module_version": "1.5.0",
            "_view_count": null,
            "_view_module_version": "1.2.0",
            "_model_module": "@jupyter-widgets/controls"
          }
        },
        "c38575c4e5954f9a9fc2d4c84628deee": {
          "model_module": "@jupyter-widgets/base",
          "model_name": "LayoutModel",
          "model_module_version": "1.2.0",
          "state": {
            "_view_name": "LayoutView",
            "grid_template_rows": null,
            "right": null,
            "justify_content": null,
            "_view_module": "@jupyter-widgets/base",
            "overflow": null,
            "_model_module_version": "1.2.0",
            "_view_count": null,
            "flex_flow": null,
            "width": null,
            "min_width": null,
            "border": null,
            "align_items": null,
            "bottom": null,
            "_model_module": "@jupyter-widgets/base",
            "top": null,
            "grid_column": null,
            "overflow_y": null,
            "overflow_x": null,
            "grid_auto_flow": null,
            "grid_area": null,
            "grid_template_columns": null,
            "flex": null,
            "_model_name": "LayoutModel",
            "justify_items": null,
            "grid_row": null,
            "max_height": null,
            "align_content": null,
            "visibility": null,
            "align_self": null,
            "height": null,
            "min_height": null,
            "padding": null,
            "grid_auto_rows": null,
            "grid_gap": null,
            "max_width": null,
            "order": null,
            "_view_module_version": "1.2.0",
            "grid_template_areas": null,
            "object_position": null,
            "object_fit": null,
            "grid_auto_columns": null,
            "margin": null,
            "display": null,
            "left": null
          }
        },
        "763075e53a754c848b442940cd5f3ad8": {
          "model_module": "@jupyter-widgets/controls",
          "model_name": "HBoxModel",
          "model_module_version": "1.5.0",
          "state": {
            "_view_name": "HBoxView",
            "_dom_classes": [],
            "_model_name": "HBoxModel",
            "_view_module": "@jupyter-widgets/controls",
            "_model_module_version": "1.5.0",
            "_view_count": null,
            "_view_module_version": "1.5.0",
            "box_style": "",
            "layout": "IPY_MODEL_1ac113130391464badc95d7c0be062ec",
            "_model_module": "@jupyter-widgets/controls",
            "children": [
              "IPY_MODEL_37bb4e36e8e0465c8974dd1c4c5d9689",
              "IPY_MODEL_8ff3e38f2eff4878ad9f1b2a0a8ace98",
              "IPY_MODEL_b744c977f2c64fe3821516cc71b52597"
            ]
          }
        },
        "1ac113130391464badc95d7c0be062ec": {
          "model_module": "@jupyter-widgets/base",
          "model_name": "LayoutModel",
          "model_module_version": "1.2.0",
          "state": {
            "_view_name": "LayoutView",
            "grid_template_rows": null,
            "right": null,
            "justify_content": null,
            "_view_module": "@jupyter-widgets/base",
            "overflow": null,
            "_model_module_version": "1.2.0",
            "_view_count": null,
            "flex_flow": null,
            "width": null,
            "min_width": null,
            "border": null,
            "align_items": null,
            "bottom": null,
            "_model_module": "@jupyter-widgets/base",
            "top": null,
            "grid_column": null,
            "overflow_y": null,
            "overflow_x": null,
            "grid_auto_flow": null,
            "grid_area": null,
            "grid_template_columns": null,
            "flex": null,
            "_model_name": "LayoutModel",
            "justify_items": null,
            "grid_row": null,
            "max_height": null,
            "align_content": null,
            "visibility": null,
            "align_self": null,
            "height": null,
            "min_height": null,
            "padding": null,
            "grid_auto_rows": null,
            "grid_gap": null,
            "max_width": null,
            "order": null,
            "_view_module_version": "1.2.0",
            "grid_template_areas": null,
            "object_position": null,
            "object_fit": null,
            "grid_auto_columns": null,
            "margin": null,
            "display": null,
            "left": null
          }
        },
        "37bb4e36e8e0465c8974dd1c4c5d9689": {
          "model_module": "@jupyter-widgets/controls",
          "model_name": "HTMLModel",
          "model_module_version": "1.5.0",
          "state": {
            "_view_name": "HTMLView",
            "style": "IPY_MODEL_6c043b03c81d4e158482684761526fe5",
            "_dom_classes": [],
            "description": "",
            "_model_name": "HTMLModel",
            "placeholder": "​",
            "_view_module": "@jupyter-widgets/controls",
            "_model_module_version": "1.5.0",
            "value": "Generating for node: Country: 100%",
            "_view_count": null,
            "_view_module_version": "1.5.0",
            "description_tooltip": null,
            "_model_module": "@jupyter-widgets/controls",
            "layout": "IPY_MODEL_be82a325588f406182d9b4f3e387de0a"
          }
        },
        "8ff3e38f2eff4878ad9f1b2a0a8ace98": {
          "model_module": "@jupyter-widgets/controls",
          "model_name": "FloatProgressModel",
          "model_module_version": "1.5.0",
          "state": {
            "_view_name": "ProgressView",
            "style": "IPY_MODEL_e88b6b49322e452c97cc343464dde3ba",
            "_dom_classes": [],
            "description": "",
            "_model_name": "FloatProgressModel",
            "bar_style": "success",
            "max": 8,
            "_view_module": "@jupyter-widgets/controls",
            "_model_module_version": "1.5.0",
            "value": 8,
            "_view_count": null,
            "_view_module_version": "1.5.0",
            "orientation": "horizontal",
            "min": 0,
            "description_tooltip": null,
            "_model_module": "@jupyter-widgets/controls",
            "layout": "IPY_MODEL_c1e27072ec2049fca91d8a7b86ad181b"
          }
        },
        "b744c977f2c64fe3821516cc71b52597": {
          "model_module": "@jupyter-widgets/controls",
          "model_name": "HTMLModel",
          "model_module_version": "1.5.0",
          "state": {
            "_view_name": "HTMLView",
            "style": "IPY_MODEL_994144870bf04acdb957df11ddc951c9",
            "_dom_classes": [],
            "description": "",
            "_model_name": "HTMLModel",
            "placeholder": "​",
            "_view_module": "@jupyter-widgets/controls",
            "_model_module_version": "1.5.0",
            "value": " 8/8 [00:23&lt;00:00,  3.30s/it]",
            "_view_count": null,
            "_view_module_version": "1.5.0",
            "description_tooltip": null,
            "_model_module": "@jupyter-widgets/controls",
            "layout": "IPY_MODEL_6d8e7cdd5257472e89e34f8b27077c76"
          }
        },
        "6c043b03c81d4e158482684761526fe5": {
          "model_module": "@jupyter-widgets/controls",
          "model_name": "DescriptionStyleModel",
          "model_module_version": "1.5.0",
          "state": {
            "_view_name": "StyleView",
            "_model_name": "DescriptionStyleModel",
            "description_width": "",
            "_view_module": "@jupyter-widgets/base",
            "_model_module_version": "1.5.0",
            "_view_count": null,
            "_view_module_version": "1.2.0",
            "_model_module": "@jupyter-widgets/controls"
          }
        },
        "be82a325588f406182d9b4f3e387de0a": {
          "model_module": "@jupyter-widgets/base",
          "model_name": "LayoutModel",
          "model_module_version": "1.2.0",
          "state": {
            "_view_name": "LayoutView",
            "grid_template_rows": null,
            "right": null,
            "justify_content": null,
            "_view_module": "@jupyter-widgets/base",
            "overflow": null,
            "_model_module_version": "1.2.0",
            "_view_count": null,
            "flex_flow": null,
            "width": null,
            "min_width": null,
            "border": null,
            "align_items": null,
            "bottom": null,
            "_model_module": "@jupyter-widgets/base",
            "top": null,
            "grid_column": null,
            "overflow_y": null,
            "overflow_x": null,
            "grid_auto_flow": null,
            "grid_area": null,
            "grid_template_columns": null,
            "flex": null,
            "_model_name": "LayoutModel",
            "justify_items": null,
            "grid_row": null,
            "max_height": null,
            "align_content": null,
            "visibility": null,
            "align_self": null,
            "height": null,
            "min_height": null,
            "padding": null,
            "grid_auto_rows": null,
            "grid_gap": null,
            "max_width": null,
            "order": null,
            "_view_module_version": "1.2.0",
            "grid_template_areas": null,
            "object_position": null,
            "object_fit": null,
            "grid_auto_columns": null,
            "margin": null,
            "display": null,
            "left": null
          }
        },
        "e88b6b49322e452c97cc343464dde3ba": {
          "model_module": "@jupyter-widgets/controls",
          "model_name": "ProgressStyleModel",
          "model_module_version": "1.5.0",
          "state": {
            "_view_name": "StyleView",
            "_model_name": "ProgressStyleModel",
            "description_width": "",
            "_view_module": "@jupyter-widgets/base",
            "_model_module_version": "1.5.0",
            "_view_count": null,
            "_view_module_version": "1.2.0",
            "bar_color": null,
            "_model_module": "@jupyter-widgets/controls"
          }
        },
        "c1e27072ec2049fca91d8a7b86ad181b": {
          "model_module": "@jupyter-widgets/base",
          "model_name": "LayoutModel",
          "model_module_version": "1.2.0",
          "state": {
            "_view_name": "LayoutView",
            "grid_template_rows": null,
            "right": null,
            "justify_content": null,
            "_view_module": "@jupyter-widgets/base",
            "overflow": null,
            "_model_module_version": "1.2.0",
            "_view_count": null,
            "flex_flow": null,
            "width": null,
            "min_width": null,
            "border": null,
            "align_items": null,
            "bottom": null,
            "_model_module": "@jupyter-widgets/base",
            "top": null,
            "grid_column": null,
            "overflow_y": null,
            "overflow_x": null,
            "grid_auto_flow": null,
            "grid_area": null,
            "grid_template_columns": null,
            "flex": null,
            "_model_name": "LayoutModel",
            "justify_items": null,
            "grid_row": null,
            "max_height": null,
            "align_content": null,
            "visibility": null,
            "align_self": null,
            "height": null,
            "min_height": null,
            "padding": null,
            "grid_auto_rows": null,
            "grid_gap": null,
            "max_width": null,
            "order": null,
            "_view_module_version": "1.2.0",
            "grid_template_areas": null,
            "object_position": null,
            "object_fit": null,
            "grid_auto_columns": null,
            "margin": null,
            "display": null,
            "left": null
          }
        },
        "994144870bf04acdb957df11ddc951c9": {
          "model_module": "@jupyter-widgets/controls",
          "model_name": "DescriptionStyleModel",
          "model_module_version": "1.5.0",
          "state": {
            "_view_name": "StyleView",
            "_model_name": "DescriptionStyleModel",
            "description_width": "",
            "_view_module": "@jupyter-widgets/base",
            "_model_module_version": "1.5.0",
            "_view_count": null,
            "_view_module_version": "1.2.0",
            "_model_module": "@jupyter-widgets/controls"
          }
        },
        "6d8e7cdd5257472e89e34f8b27077c76": {
          "model_module": "@jupyter-widgets/base",
          "model_name": "LayoutModel",
          "model_module_version": "1.2.0",
          "state": {
            "_view_name": "LayoutView",
            "grid_template_rows": null,
            "right": null,
            "justify_content": null,
            "_view_module": "@jupyter-widgets/base",
            "overflow": null,
            "_model_module_version": "1.2.0",
            "_view_count": null,
            "flex_flow": null,
            "width": null,
            "min_width": null,
            "border": null,
            "align_items": null,
            "bottom": null,
            "_model_module": "@jupyter-widgets/base",
            "top": null,
            "grid_column": null,
            "overflow_y": null,
            "overflow_x": null,
            "grid_auto_flow": null,
            "grid_area": null,
            "grid_template_columns": null,
            "flex": null,
            "_model_name": "LayoutModel",
            "justify_items": null,
            "grid_row": null,
            "max_height": null,
            "align_content": null,
            "visibility": null,
            "align_self": null,
            "height": null,
            "min_height": null,
            "padding": null,
            "grid_auto_rows": null,
            "grid_gap": null,
            "max_width": null,
            "order": null,
            "_view_module_version": "1.2.0",
            "grid_template_areas": null,
            "object_position": null,
            "object_fit": null,
            "grid_auto_columns": null,
            "margin": null,
            "display": null,
            "left": null
          }
        },
        "7282edbd1055402483e73d1a9e7084fb": {
          "model_module": "@jupyter-widgets/controls",
          "model_name": "HBoxModel",
          "model_module_version": "1.5.0",
          "state": {
            "_view_name": "HBoxView",
            "_dom_classes": [],
            "_model_name": "HBoxModel",
            "_view_module": "@jupyter-widgets/controls",
            "_model_module_version": "1.5.0",
            "_view_count": null,
            "_view_module_version": "1.5.0",
            "box_style": "",
            "layout": "IPY_MODEL_5d1dc0e1c6284fadb10b060d63aa66ee",
            "_model_module": "@jupyter-widgets/controls",
            "children": [
              "IPY_MODEL_937e5b833c6d45e781d6ed44fde92ebd",
              "IPY_MODEL_c8d6c784f4204cfb904cb7848e5e3bf7",
              "IPY_MODEL_026c95f2fff64fd8a49be19a427ad897"
            ]
          }
        },
        "5d1dc0e1c6284fadb10b060d63aa66ee": {
          "model_module": "@jupyter-widgets/base",
          "model_name": "LayoutModel",
          "model_module_version": "1.2.0",
          "state": {
            "_view_name": "LayoutView",
            "grid_template_rows": null,
            "right": null,
            "justify_content": null,
            "_view_module": "@jupyter-widgets/base",
            "overflow": null,
            "_model_module_version": "1.2.0",
            "_view_count": null,
            "flex_flow": null,
            "width": null,
            "min_width": null,
            "border": null,
            "align_items": null,
            "bottom": null,
            "_model_module": "@jupyter-widgets/base",
            "top": null,
            "grid_column": null,
            "overflow_y": null,
            "overflow_x": null,
            "grid_auto_flow": null,
            "grid_area": null,
            "grid_template_columns": null,
            "flex": null,
            "_model_name": "LayoutModel",
            "justify_items": null,
            "grid_row": null,
            "max_height": null,
            "align_content": null,
            "visibility": null,
            "align_self": null,
            "height": null,
            "min_height": null,
            "padding": null,
            "grid_auto_rows": null,
            "grid_gap": null,
            "max_width": null,
            "order": null,
            "_view_module_version": "1.2.0",
            "grid_template_areas": null,
            "object_position": null,
            "object_fit": null,
            "grid_auto_columns": null,
            "margin": null,
            "display": null,
            "left": null
          }
        },
        "937e5b833c6d45e781d6ed44fde92ebd": {
          "model_module": "@jupyter-widgets/controls",
          "model_name": "HTMLModel",
          "model_module_version": "1.5.0",
          "state": {
            "_view_name": "HTMLView",
            "style": "IPY_MODEL_2c8b3ef17c034c9eb2b09579bb9481ae",
            "_dom_classes": [],
            "description": "",
            "_model_name": "HTMLModel",
            "placeholder": "​",
            "_view_module": "@jupyter-widgets/controls",
            "_model_module_version": "1.5.0",
            "value": "Generating for node: Freedom: 100%",
            "_view_count": null,
            "_view_module_version": "1.5.0",
            "description_tooltip": null,
            "_model_module": "@jupyter-widgets/controls",
            "layout": "IPY_MODEL_500769f3f2044fedbced55ccfc1cfafc"
          }
        },
        "c8d6c784f4204cfb904cb7848e5e3bf7": {
          "model_module": "@jupyter-widgets/controls",
          "model_name": "FloatProgressModel",
          "model_module_version": "1.5.0",
          "state": {
            "_view_name": "ProgressView",
            "style": "IPY_MODEL_73d8e882f68e4be38b774e6a95151f88",
            "_dom_classes": [],
            "description": "",
            "_model_name": "FloatProgressModel",
            "bar_style": "success",
            "max": 7,
            "_view_module": "@jupyter-widgets/controls",
            "_model_module_version": "1.5.0",
            "value": 7,
            "_view_count": null,
            "_view_module_version": "1.5.0",
            "orientation": "horizontal",
            "min": 0,
            "description_tooltip": null,
            "_model_module": "@jupyter-widgets/controls",
            "layout": "IPY_MODEL_8827ce4bed4549038a9d6d32489807c3"
          }
        },
        "026c95f2fff64fd8a49be19a427ad897": {
          "model_module": "@jupyter-widgets/controls",
          "model_name": "HTMLModel",
          "model_module_version": "1.5.0",
          "state": {
            "_view_name": "HTMLView",
            "style": "IPY_MODEL_8ed1f722c0d34c7a83d95e97fa1e1bb1",
            "_dom_classes": [],
            "description": "",
            "_model_name": "HTMLModel",
            "placeholder": "​",
            "_view_module": "@jupyter-widgets/controls",
            "_model_module_version": "1.5.0",
            "value": " 7/7 [00:00&lt;00:00, 49.31it/s]",
            "_view_count": null,
            "_view_module_version": "1.5.0",
            "description_tooltip": null,
            "_model_module": "@jupyter-widgets/controls",
            "layout": "IPY_MODEL_d3c3ed572ace4f0b9c923dc5adced652"
          }
        },
        "2c8b3ef17c034c9eb2b09579bb9481ae": {
          "model_module": "@jupyter-widgets/controls",
          "model_name": "DescriptionStyleModel",
          "model_module_version": "1.5.0",
          "state": {
            "_view_name": "StyleView",
            "_model_name": "DescriptionStyleModel",
            "description_width": "",
            "_view_module": "@jupyter-widgets/base",
            "_model_module_version": "1.5.0",
            "_view_count": null,
            "_view_module_version": "1.2.0",
            "_model_module": "@jupyter-widgets/controls"
          }
        },
        "500769f3f2044fedbced55ccfc1cfafc": {
          "model_module": "@jupyter-widgets/base",
          "model_name": "LayoutModel",
          "model_module_version": "1.2.0",
          "state": {
            "_view_name": "LayoutView",
            "grid_template_rows": null,
            "right": null,
            "justify_content": null,
            "_view_module": "@jupyter-widgets/base",
            "overflow": null,
            "_model_module_version": "1.2.0",
            "_view_count": null,
            "flex_flow": null,
            "width": null,
            "min_width": null,
            "border": null,
            "align_items": null,
            "bottom": null,
            "_model_module": "@jupyter-widgets/base",
            "top": null,
            "grid_column": null,
            "overflow_y": null,
            "overflow_x": null,
            "grid_auto_flow": null,
            "grid_area": null,
            "grid_template_columns": null,
            "flex": null,
            "_model_name": "LayoutModel",
            "justify_items": null,
            "grid_row": null,
            "max_height": null,
            "align_content": null,
            "visibility": null,
            "align_self": null,
            "height": null,
            "min_height": null,
            "padding": null,
            "grid_auto_rows": null,
            "grid_gap": null,
            "max_width": null,
            "order": null,
            "_view_module_version": "1.2.0",
            "grid_template_areas": null,
            "object_position": null,
            "object_fit": null,
            "grid_auto_columns": null,
            "margin": null,
            "display": null,
            "left": null
          }
        },
        "73d8e882f68e4be38b774e6a95151f88": {
          "model_module": "@jupyter-widgets/controls",
          "model_name": "ProgressStyleModel",
          "model_module_version": "1.5.0",
          "state": {
            "_view_name": "StyleView",
            "_model_name": "ProgressStyleModel",
            "description_width": "",
            "_view_module": "@jupyter-widgets/base",
            "_model_module_version": "1.5.0",
            "_view_count": null,
            "_view_module_version": "1.2.0",
            "bar_color": null,
            "_model_module": "@jupyter-widgets/controls"
          }
        },
        "8827ce4bed4549038a9d6d32489807c3": {
          "model_module": "@jupyter-widgets/base",
          "model_name": "LayoutModel",
          "model_module_version": "1.2.0",
          "state": {
            "_view_name": "LayoutView",
            "grid_template_rows": null,
            "right": null,
            "justify_content": null,
            "_view_module": "@jupyter-widgets/base",
            "overflow": null,
            "_model_module_version": "1.2.0",
            "_view_count": null,
            "flex_flow": null,
            "width": null,
            "min_width": null,
            "border": null,
            "align_items": null,
            "bottom": null,
            "_model_module": "@jupyter-widgets/base",
            "top": null,
            "grid_column": null,
            "overflow_y": null,
            "overflow_x": null,
            "grid_auto_flow": null,
            "grid_area": null,
            "grid_template_columns": null,
            "flex": null,
            "_model_name": "LayoutModel",
            "justify_items": null,
            "grid_row": null,
            "max_height": null,
            "align_content": null,
            "visibility": null,
            "align_self": null,
            "height": null,
            "min_height": null,
            "padding": null,
            "grid_auto_rows": null,
            "grid_gap": null,
            "max_width": null,
            "order": null,
            "_view_module_version": "1.2.0",
            "grid_template_areas": null,
            "object_position": null,
            "object_fit": null,
            "grid_auto_columns": null,
            "margin": null,
            "display": null,
            "left": null
          }
        },
        "8ed1f722c0d34c7a83d95e97fa1e1bb1": {
          "model_module": "@jupyter-widgets/controls",
          "model_name": "DescriptionStyleModel",
          "model_module_version": "1.5.0",
          "state": {
            "_view_name": "StyleView",
            "_model_name": "DescriptionStyleModel",
            "description_width": "",
            "_view_module": "@jupyter-widgets/base",
            "_model_module_version": "1.5.0",
            "_view_count": null,
            "_view_module_version": "1.2.0",
            "_model_module": "@jupyter-widgets/controls"
          }
        },
        "d3c3ed572ace4f0b9c923dc5adced652": {
          "model_module": "@jupyter-widgets/base",
          "model_name": "LayoutModel",
          "model_module_version": "1.2.0",
          "state": {
            "_view_name": "LayoutView",
            "grid_template_rows": null,
            "right": null,
            "justify_content": null,
            "_view_module": "@jupyter-widgets/base",
            "overflow": null,
            "_model_module_version": "1.2.0",
            "_view_count": null,
            "flex_flow": null,
            "width": null,
            "min_width": null,
            "border": null,
            "align_items": null,
            "bottom": null,
            "_model_module": "@jupyter-widgets/base",
            "top": null,
            "grid_column": null,
            "overflow_y": null,
            "overflow_x": null,
            "grid_auto_flow": null,
            "grid_area": null,
            "grid_template_columns": null,
            "flex": null,
            "_model_name": "LayoutModel",
            "justify_items": null,
            "grid_row": null,
            "max_height": null,
            "align_content": null,
            "visibility": null,
            "align_self": null,
            "height": null,
            "min_height": null,
            "padding": null,
            "grid_auto_rows": null,
            "grid_gap": null,
            "max_width": null,
            "order": null,
            "_view_module_version": "1.2.0",
            "grid_template_areas": null,
            "object_position": null,
            "object_fit": null,
            "grid_auto_columns": null,
            "margin": null,
            "display": null,
            "left": null
          }
        }
      }
    }
  },
  "cells": [
    {
      "cell_type": "markdown",
      "metadata": {
        "id": "hX-hvNfLr23s"
      },
      "source": [
        "# Lab # 3"
      ]
    },
    {
      "cell_type": "code",
      "metadata": {
        "colab": {
          "base_uri": "https://localhost:8080/"
        },
        "id": "RBlx5d9Jb2Uf",
        "outputId": "6e983bc5-cb77-4088-bc18-37dd5abe762a"
      },
      "source": [
        "import pandas as pd\n",
        "import numpy as np\n",
        "import matplotlib.pyplot as plt\n",
        "import networkx as nx\n",
        "import seaborn as sns\n",
        "import warnings\n",
        "import scipy.stats\n",
        "!pip install pgmpy\n",
        "from pgmpy.estimators import HillClimbSearch, K2Score, BicScore, BDeuScore, BDsScore\n",
        "from pgmpy.models import BayesianModel\n",
        "from pgmpy.sampling import BayesianModelSampling\n",
        "from sklearn.preprocessing import KBinsDiscretizer\n",
        "from sklearn.model_selection import train_test_split"
      ],
      "execution_count": null,
      "outputs": [
        {
          "output_type": "stream",
          "name": "stdout",
          "text": [
            "Collecting pgmpy\n",
            "  Downloading pgmpy-0.1.16-py3-none-any.whl (1.9 MB)\n",
            "\u001b[?25l\r\u001b[K     |▏                               | 10 kB 22.4 MB/s eta 0:00:01\r\u001b[K     |▍                               | 20 kB 27.7 MB/s eta 0:00:01\r\u001b[K     |▌                               | 30 kB 26.6 MB/s eta 0:00:01\r\u001b[K     |▊                               | 40 kB 19.9 MB/s eta 0:00:01\r\u001b[K     |▉                               | 51 kB 16.1 MB/s eta 0:00:01\r\u001b[K     |█                               | 61 kB 11.6 MB/s eta 0:00:01\r\u001b[K     |█▏                              | 71 kB 12.7 MB/s eta 0:00:01\r\u001b[K     |█▍                              | 81 kB 13.9 MB/s eta 0:00:01\r\u001b[K     |█▌                              | 92 kB 14.8 MB/s eta 0:00:01\r\u001b[K     |█▊                              | 102 kB 14.1 MB/s eta 0:00:01\r\u001b[K     |█▉                              | 112 kB 14.1 MB/s eta 0:00:01\r\u001b[K     |██                              | 122 kB 14.1 MB/s eta 0:00:01\r\u001b[K     |██▏                             | 133 kB 14.1 MB/s eta 0:00:01\r\u001b[K     |██▍                             | 143 kB 14.1 MB/s eta 0:00:01\r\u001b[K     |██▋                             | 153 kB 14.1 MB/s eta 0:00:01\r\u001b[K     |██▊                             | 163 kB 14.1 MB/s eta 0:00:01\r\u001b[K     |███                             | 174 kB 14.1 MB/s eta 0:00:01\r\u001b[K     |███                             | 184 kB 14.1 MB/s eta 0:00:01\r\u001b[K     |███▎                            | 194 kB 14.1 MB/s eta 0:00:01\r\u001b[K     |███▍                            | 204 kB 14.1 MB/s eta 0:00:01\r\u001b[K     |███▋                            | 215 kB 14.1 MB/s eta 0:00:01\r\u001b[K     |███▊                            | 225 kB 14.1 MB/s eta 0:00:01\r\u001b[K     |████                            | 235 kB 14.1 MB/s eta 0:00:01\r\u001b[K     |████                            | 245 kB 14.1 MB/s eta 0:00:01\r\u001b[K     |████▎                           | 256 kB 14.1 MB/s eta 0:00:01\r\u001b[K     |████▍                           | 266 kB 14.1 MB/s eta 0:00:01\r\u001b[K     |████▋                           | 276 kB 14.1 MB/s eta 0:00:01\r\u001b[K     |████▉                           | 286 kB 14.1 MB/s eta 0:00:01\r\u001b[K     |█████                           | 296 kB 14.1 MB/s eta 0:00:01\r\u001b[K     |█████▏                          | 307 kB 14.1 MB/s eta 0:00:01\r\u001b[K     |█████▎                          | 317 kB 14.1 MB/s eta 0:00:01\r\u001b[K     |█████▌                          | 327 kB 14.1 MB/s eta 0:00:01\r\u001b[K     |█████▋                          | 337 kB 14.1 MB/s eta 0:00:01\r\u001b[K     |█████▉                          | 348 kB 14.1 MB/s eta 0:00:01\r\u001b[K     |██████                          | 358 kB 14.1 MB/s eta 0:00:01\r\u001b[K     |██████▏                         | 368 kB 14.1 MB/s eta 0:00:01\r\u001b[K     |██████▎                         | 378 kB 14.1 MB/s eta 0:00:01\r\u001b[K     |██████▌                         | 389 kB 14.1 MB/s eta 0:00:01\r\u001b[K     |██████▋                         | 399 kB 14.1 MB/s eta 0:00:01\r\u001b[K     |██████▉                         | 409 kB 14.1 MB/s eta 0:00:01\r\u001b[K     |███████                         | 419 kB 14.1 MB/s eta 0:00:01\r\u001b[K     |███████▏                        | 430 kB 14.1 MB/s eta 0:00:01\r\u001b[K     |███████▍                        | 440 kB 14.1 MB/s eta 0:00:01\r\u001b[K     |███████▌                        | 450 kB 14.1 MB/s eta 0:00:01\r\u001b[K     |███████▊                        | 460 kB 14.1 MB/s eta 0:00:01\r\u001b[K     |███████▉                        | 471 kB 14.1 MB/s eta 0:00:01\r\u001b[K     |████████                        | 481 kB 14.1 MB/s eta 0:00:01\r\u001b[K     |████████▏                       | 491 kB 14.1 MB/s eta 0:00:01\r\u001b[K     |████████▍                       | 501 kB 14.1 MB/s eta 0:00:01\r\u001b[K     |████████▌                       | 512 kB 14.1 MB/s eta 0:00:01\r\u001b[K     |████████▊                       | 522 kB 14.1 MB/s eta 0:00:01\r\u001b[K     |████████▉                       | 532 kB 14.1 MB/s eta 0:00:01\r\u001b[K     |█████████                       | 542 kB 14.1 MB/s eta 0:00:01\r\u001b[K     |█████████▎                      | 552 kB 14.1 MB/s eta 0:00:01\r\u001b[K     |█████████▍                      | 563 kB 14.1 MB/s eta 0:00:01\r\u001b[K     |█████████▋                      | 573 kB 14.1 MB/s eta 0:00:01\r\u001b[K     |█████████▊                      | 583 kB 14.1 MB/s eta 0:00:01\r\u001b[K     |██████████                      | 593 kB 14.1 MB/s eta 0:00:01\r\u001b[K     |██████████                      | 604 kB 14.1 MB/s eta 0:00:01\r\u001b[K     |██████████▎                     | 614 kB 14.1 MB/s eta 0:00:01\r\u001b[K     |██████████▍                     | 624 kB 14.1 MB/s eta 0:00:01\r\u001b[K     |██████████▋                     | 634 kB 14.1 MB/s eta 0:00:01\r\u001b[K     |██████████▊                     | 645 kB 14.1 MB/s eta 0:00:01\r\u001b[K     |███████████                     | 655 kB 14.1 MB/s eta 0:00:01\r\u001b[K     |███████████                     | 665 kB 14.1 MB/s eta 0:00:01\r\u001b[K     |███████████▎                    | 675 kB 14.1 MB/s eta 0:00:01\r\u001b[K     |███████████▍                    | 686 kB 14.1 MB/s eta 0:00:01\r\u001b[K     |███████████▋                    | 696 kB 14.1 MB/s eta 0:00:01\r\u001b[K     |███████████▉                    | 706 kB 14.1 MB/s eta 0:00:01\r\u001b[K     |████████████                    | 716 kB 14.1 MB/s eta 0:00:01\r\u001b[K     |████████████▏                   | 727 kB 14.1 MB/s eta 0:00:01\r\u001b[K     |████████████▎                   | 737 kB 14.1 MB/s eta 0:00:01\r\u001b[K     |████████████▌                   | 747 kB 14.1 MB/s eta 0:00:01\r\u001b[K     |████████████▋                   | 757 kB 14.1 MB/s eta 0:00:01\r\u001b[K     |████████████▉                   | 768 kB 14.1 MB/s eta 0:00:01\r\u001b[K     |█████████████                   | 778 kB 14.1 MB/s eta 0:00:01\r\u001b[K     |█████████████▏                  | 788 kB 14.1 MB/s eta 0:00:01\r\u001b[K     |█████████████▎                  | 798 kB 14.1 MB/s eta 0:00:01\r\u001b[K     |█████████████▌                  | 808 kB 14.1 MB/s eta 0:00:01\r\u001b[K     |█████████████▋                  | 819 kB 14.1 MB/s eta 0:00:01\r\u001b[K     |█████████████▉                  | 829 kB 14.1 MB/s eta 0:00:01\r\u001b[K     |██████████████                  | 839 kB 14.1 MB/s eta 0:00:01\r\u001b[K     |██████████████▏                 | 849 kB 14.1 MB/s eta 0:00:01\r\u001b[K     |██████████████▍                 | 860 kB 14.1 MB/s eta 0:00:01\r\u001b[K     |██████████████▌                 | 870 kB 14.1 MB/s eta 0:00:01\r\u001b[K     |██████████████▊                 | 880 kB 14.1 MB/s eta 0:00:01\r\u001b[K     |██████████████▉                 | 890 kB 14.1 MB/s eta 0:00:01\r\u001b[K     |███████████████                 | 901 kB 14.1 MB/s eta 0:00:01\r\u001b[K     |███████████████▏                | 911 kB 14.1 MB/s eta 0:00:01\r\u001b[K     |███████████████▍                | 921 kB 14.1 MB/s eta 0:00:01\r\u001b[K     |███████████████▌                | 931 kB 14.1 MB/s eta 0:00:01\r\u001b[K     |███████████████▊                | 942 kB 14.1 MB/s eta 0:00:01\r\u001b[K     |███████████████▉                | 952 kB 14.1 MB/s eta 0:00:01\r\u001b[K     |████████████████                | 962 kB 14.1 MB/s eta 0:00:01\r\u001b[K     |████████████████▎               | 972 kB 14.1 MB/s eta 0:00:01\r\u001b[K     |████████████████▍               | 983 kB 14.1 MB/s eta 0:00:01\r\u001b[K     |████████████████▋               | 993 kB 14.1 MB/s eta 0:00:01\r\u001b[K     |████████████████▊               | 1.0 MB 14.1 MB/s eta 0:00:01\r\u001b[K     |█████████████████               | 1.0 MB 14.1 MB/s eta 0:00:01\r\u001b[K     |█████████████████               | 1.0 MB 14.1 MB/s eta 0:00:01\r\u001b[K     |█████████████████▎              | 1.0 MB 14.1 MB/s eta 0:00:01\r\u001b[K     |█████████████████▍              | 1.0 MB 14.1 MB/s eta 0:00:01\r\u001b[K     |█████████████████▋              | 1.1 MB 14.1 MB/s eta 0:00:01\r\u001b[K     |█████████████████▊              | 1.1 MB 14.1 MB/s eta 0:00:01\r\u001b[K     |██████████████████              | 1.1 MB 14.1 MB/s eta 0:00:01\r\u001b[K     |██████████████████              | 1.1 MB 14.1 MB/s eta 0:00:01\r\u001b[K     |██████████████████▎             | 1.1 MB 14.1 MB/s eta 0:00:01\r\u001b[K     |██████████████████▌             | 1.1 MB 14.1 MB/s eta 0:00:01\r\u001b[K     |██████████████████▋             | 1.1 MB 14.1 MB/s eta 0:00:01\r\u001b[K     |██████████████████▉             | 1.1 MB 14.1 MB/s eta 0:00:01\r\u001b[K     |███████████████████             | 1.1 MB 14.1 MB/s eta 0:00:01\r\u001b[K     |███████████████████▏            | 1.1 MB 14.1 MB/s eta 0:00:01\r\u001b[K     |███████████████████▎            | 1.2 MB 14.1 MB/s eta 0:00:01\r\u001b[K     |███████████████████▌            | 1.2 MB 14.1 MB/s eta 0:00:01\r\u001b[K     |███████████████████▋            | 1.2 MB 14.1 MB/s eta 0:00:01\r\u001b[K     |███████████████████▉            | 1.2 MB 14.1 MB/s eta 0:00:01\r\u001b[K     |████████████████████            | 1.2 MB 14.1 MB/s eta 0:00:01\r\u001b[K     |████████████████████▏           | 1.2 MB 14.1 MB/s eta 0:00:01\r\u001b[K     |████████████████████▎           | 1.2 MB 14.1 MB/s eta 0:00:01\r\u001b[K     |████████████████████▌           | 1.2 MB 14.1 MB/s eta 0:00:01\r\u001b[K     |████████████████████▋           | 1.2 MB 14.1 MB/s eta 0:00:01\r\u001b[K     |████████████████████▉           | 1.2 MB 14.1 MB/s eta 0:00:01\r\u001b[K     |█████████████████████           | 1.3 MB 14.1 MB/s eta 0:00:01\r\u001b[K     |█████████████████████▏          | 1.3 MB 14.1 MB/s eta 0:00:01\r\u001b[K     |█████████████████████▍          | 1.3 MB 14.1 MB/s eta 0:00:01\r\u001b[K     |█████████████████████▌          | 1.3 MB 14.1 MB/s eta 0:00:01\r\u001b[K     |█████████████████████▊          | 1.3 MB 14.1 MB/s eta 0:00:01\r\u001b[K     |█████████████████████▉          | 1.3 MB 14.1 MB/s eta 0:00:01\r\u001b[K     |██████████████████████          | 1.3 MB 14.1 MB/s eta 0:00:01\r\u001b[K     |██████████████████████▏         | 1.3 MB 14.1 MB/s eta 0:00:01\r\u001b[K     |██████████████████████▍         | 1.3 MB 14.1 MB/s eta 0:00:01\r\u001b[K     |██████████████████████▌         | 1.4 MB 14.1 MB/s eta 0:00:01\r\u001b[K     |██████████████████████▊         | 1.4 MB 14.1 MB/s eta 0:00:01\r\u001b[K     |██████████████████████▉         | 1.4 MB 14.1 MB/s eta 0:00:01\r\u001b[K     |███████████████████████         | 1.4 MB 14.1 MB/s eta 0:00:01\r\u001b[K     |███████████████████████▎        | 1.4 MB 14.1 MB/s eta 0:00:01\r\u001b[K     |███████████████████████▍        | 1.4 MB 14.1 MB/s eta 0:00:01\r\u001b[K     |███████████████████████▋        | 1.4 MB 14.1 MB/s eta 0:00:01\r\u001b[K     |███████████████████████▊        | 1.4 MB 14.1 MB/s eta 0:00:01\r\u001b[K     |████████████████████████        | 1.4 MB 14.1 MB/s eta 0:00:01\r\u001b[K     |████████████████████████        | 1.4 MB 14.1 MB/s eta 0:00:01\r\u001b[K     |████████████████████████▎       | 1.5 MB 14.1 MB/s eta 0:00:01\r\u001b[K     |████████████████████████▍       | 1.5 MB 14.1 MB/s eta 0:00:01\r\u001b[K     |████████████████████████▋       | 1.5 MB 14.1 MB/s eta 0:00:01\r\u001b[K     |████████████████████████▊       | 1.5 MB 14.1 MB/s eta 0:00:01\r\u001b[K     |█████████████████████████       | 1.5 MB 14.1 MB/s eta 0:00:01\r\u001b[K     |█████████████████████████       | 1.5 MB 14.1 MB/s eta 0:00:01\r\u001b[K     |█████████████████████████▎      | 1.5 MB 14.1 MB/s eta 0:00:01\r\u001b[K     |█████████████████████████▌      | 1.5 MB 14.1 MB/s eta 0:00:01\r\u001b[K     |█████████████████████████▋      | 1.5 MB 14.1 MB/s eta 0:00:01\r\u001b[K     |█████████████████████████▉      | 1.5 MB 14.1 MB/s eta 0:00:01\r\u001b[K     |██████████████████████████      | 1.6 MB 14.1 MB/s eta 0:00:01\r\u001b[K     |██████████████████████████▏     | 1.6 MB 14.1 MB/s eta 0:00:01\r\u001b[K     |██████████████████████████▎     | 1.6 MB 14.1 MB/s eta 0:00:01\r\u001b[K     |██████████████████████████▌     | 1.6 MB 14.1 MB/s eta 0:00:01\r\u001b[K     |██████████████████████████▋     | 1.6 MB 14.1 MB/s eta 0:00:01\r\u001b[K     |██████████████████████████▉     | 1.6 MB 14.1 MB/s eta 0:00:01\r\u001b[K     |███████████████████████████     | 1.6 MB 14.1 MB/s eta 0:00:01\r\u001b[K     |███████████████████████████▏    | 1.6 MB 14.1 MB/s eta 0:00:01\r\u001b[K     |███████████████████████████▎    | 1.6 MB 14.1 MB/s eta 0:00:01\r\u001b[K     |███████████████████████████▌    | 1.6 MB 14.1 MB/s eta 0:00:01\r\u001b[K     |███████████████████████████▊    | 1.7 MB 14.1 MB/s eta 0:00:01\r\u001b[K     |███████████████████████████▉    | 1.7 MB 14.1 MB/s eta 0:00:01\r\u001b[K     |████████████████████████████    | 1.7 MB 14.1 MB/s eta 0:00:01\r\u001b[K     |████████████████████████████▏   | 1.7 MB 14.1 MB/s eta 0:00:01\r\u001b[K     |████████████████████████████▍   | 1.7 MB 14.1 MB/s eta 0:00:01\r\u001b[K     |████████████████████████████▌   | 1.7 MB 14.1 MB/s eta 0:00:01\r\u001b[K     |████████████████████████████▊   | 1.7 MB 14.1 MB/s eta 0:00:01\r\u001b[K     |████████████████████████████▉   | 1.7 MB 14.1 MB/s eta 0:00:01\r\u001b[K     |█████████████████████████████   | 1.7 MB 14.1 MB/s eta 0:00:01\r\u001b[K     |█████████████████████████████▏  | 1.8 MB 14.1 MB/s eta 0:00:01\r\u001b[K     |█████████████████████████████▍  | 1.8 MB 14.1 MB/s eta 0:00:01\r\u001b[K     |█████████████████████████████▌  | 1.8 MB 14.1 MB/s eta 0:00:01\r\u001b[K     |█████████████████████████████▊  | 1.8 MB 14.1 MB/s eta 0:00:01\r\u001b[K     |█████████████████████████████▉  | 1.8 MB 14.1 MB/s eta 0:00:01\r\u001b[K     |██████████████████████████████  | 1.8 MB 14.1 MB/s eta 0:00:01\r\u001b[K     |██████████████████████████████▎ | 1.8 MB 14.1 MB/s eta 0:00:01\r\u001b[K     |██████████████████████████████▍ | 1.8 MB 14.1 MB/s eta 0:00:01\r\u001b[K     |██████████████████████████████▋ | 1.8 MB 14.1 MB/s eta 0:00:01\r\u001b[K     |██████████████████████████████▊ | 1.8 MB 14.1 MB/s eta 0:00:01\r\u001b[K     |███████████████████████████████ | 1.9 MB 14.1 MB/s eta 0:00:01\r\u001b[K     |███████████████████████████████ | 1.9 MB 14.1 MB/s eta 0:00:01\r\u001b[K     |███████████████████████████████▎| 1.9 MB 14.1 MB/s eta 0:00:01\r\u001b[K     |███████████████████████████████▍| 1.9 MB 14.1 MB/s eta 0:00:01\r\u001b[K     |███████████████████████████████▋| 1.9 MB 14.1 MB/s eta 0:00:01\r\u001b[K     |███████████████████████████████▊| 1.9 MB 14.1 MB/s eta 0:00:01\r\u001b[K     |████████████████████████████████| 1.9 MB 14.1 MB/s eta 0:00:01\r\u001b[K     |████████████████████████████████| 1.9 MB 14.1 MB/s \n",
            "\u001b[?25hRequirement already satisfied: tqdm in /usr/local/lib/python3.7/dist-packages (from pgmpy) (4.62.3)\n",
            "Requirement already satisfied: joblib in /usr/local/lib/python3.7/dist-packages (from pgmpy) (1.1.0)\n",
            "Requirement already satisfied: scikit-learn in /usr/local/lib/python3.7/dist-packages (from pgmpy) (1.0.1)\n",
            "Requirement already satisfied: networkx in /usr/local/lib/python3.7/dist-packages (from pgmpy) (2.6.3)\n",
            "Requirement already satisfied: scipy in /usr/local/lib/python3.7/dist-packages (from pgmpy) (1.4.1)\n",
            "Requirement already satisfied: torch in /usr/local/lib/python3.7/dist-packages (from pgmpy) (1.10.0+cu111)\n",
            "Requirement already satisfied: numpy in /usr/local/lib/python3.7/dist-packages (from pgmpy) (1.19.5)\n",
            "Requirement already satisfied: statsmodels in /usr/local/lib/python3.7/dist-packages (from pgmpy) (0.10.2)\n",
            "Requirement already satisfied: pyparsing in /usr/local/lib/python3.7/dist-packages (from pgmpy) (3.0.6)\n",
            "Requirement already satisfied: pandas in /usr/local/lib/python3.7/dist-packages (from pgmpy) (1.1.5)\n",
            "Requirement already satisfied: python-dateutil>=2.7.3 in /usr/local/lib/python3.7/dist-packages (from pandas->pgmpy) (2.8.2)\n",
            "Requirement already satisfied: pytz>=2017.2 in /usr/local/lib/python3.7/dist-packages (from pandas->pgmpy) (2018.9)\n",
            "Requirement already satisfied: six>=1.5 in /usr/local/lib/python3.7/dist-packages (from python-dateutil>=2.7.3->pandas->pgmpy) (1.15.0)\n",
            "Requirement already satisfied: threadpoolctl>=2.0.0 in /usr/local/lib/python3.7/dist-packages (from scikit-learn->pgmpy) (3.0.0)\n",
            "Requirement already satisfied: patsy>=0.4.0 in /usr/local/lib/python3.7/dist-packages (from statsmodels->pgmpy) (0.5.2)\n",
            "Requirement already satisfied: typing-extensions in /usr/local/lib/python3.7/dist-packages (from torch->pgmpy) (3.10.0.2)\n",
            "Installing collected packages: pgmpy\n",
            "Successfully installed pgmpy-0.1.16\n"
          ]
        },
        {
          "output_type": "stream",
          "name": "stderr",
          "text": [
            "/usr/local/lib/python3.7/dist-packages/statsmodels/tools/_testing.py:19: FutureWarning: pandas.util.testing is deprecated. Use the functions in the public API at pandas.testing instead.\n",
            "  import pandas.util.testing as tm\n"
          ]
        }
      ]
    },
    {
      "cell_type": "code",
      "metadata": {
        "colab": {
          "base_uri": "https://localhost:8080/",
          "height": 310
        },
        "id": "J2u_cHY3b3Hg",
        "outputId": "7ecf5fc7-c88e-40f6-b280-95601dfaa7f0"
      },
      "source": [
        "data = pd.read_csv('2015.csv')\n",
        "data.head()"
      ],
      "execution_count": null,
      "outputs": [
        {
          "output_type": "execute_result",
          "data": {
            "text/html": [
              "<div>\n",
              "<style scoped>\n",
              "    .dataframe tbody tr th:only-of-type {\n",
              "        vertical-align: middle;\n",
              "    }\n",
              "\n",
              "    .dataframe tbody tr th {\n",
              "        vertical-align: top;\n",
              "    }\n",
              "\n",
              "    .dataframe thead th {\n",
              "        text-align: right;\n",
              "    }\n",
              "</style>\n",
              "<table border=\"1\" class=\"dataframe\">\n",
              "  <thead>\n",
              "    <tr style=\"text-align: right;\">\n",
              "      <th></th>\n",
              "      <th>Country</th>\n",
              "      <th>Region</th>\n",
              "      <th>Happiness Rank</th>\n",
              "      <th>Happiness Score</th>\n",
              "      <th>Standard Error</th>\n",
              "      <th>Economy (GDP per Capita)</th>\n",
              "      <th>Family</th>\n",
              "      <th>Health (Life Expectancy)</th>\n",
              "      <th>Freedom</th>\n",
              "      <th>Trust (Government Corruption)</th>\n",
              "      <th>Generosity</th>\n",
              "      <th>Dystopia Residual</th>\n",
              "    </tr>\n",
              "  </thead>\n",
              "  <tbody>\n",
              "    <tr>\n",
              "      <th>0</th>\n",
              "      <td>Switzerland</td>\n",
              "      <td>Western Europe</td>\n",
              "      <td>1</td>\n",
              "      <td>7.587</td>\n",
              "      <td>0.03411</td>\n",
              "      <td>1.39651</td>\n",
              "      <td>1.34951</td>\n",
              "      <td>0.94143</td>\n",
              "      <td>0.66557</td>\n",
              "      <td>0.41978</td>\n",
              "      <td>0.29678</td>\n",
              "      <td>2.51738</td>\n",
              "    </tr>\n",
              "    <tr>\n",
              "      <th>1</th>\n",
              "      <td>Iceland</td>\n",
              "      <td>Western Europe</td>\n",
              "      <td>2</td>\n",
              "      <td>7.561</td>\n",
              "      <td>0.04884</td>\n",
              "      <td>1.30232</td>\n",
              "      <td>1.40223</td>\n",
              "      <td>0.94784</td>\n",
              "      <td>0.62877</td>\n",
              "      <td>0.14145</td>\n",
              "      <td>0.43630</td>\n",
              "      <td>2.70201</td>\n",
              "    </tr>\n",
              "    <tr>\n",
              "      <th>2</th>\n",
              "      <td>Denmark</td>\n",
              "      <td>Western Europe</td>\n",
              "      <td>3</td>\n",
              "      <td>7.527</td>\n",
              "      <td>0.03328</td>\n",
              "      <td>1.32548</td>\n",
              "      <td>1.36058</td>\n",
              "      <td>0.87464</td>\n",
              "      <td>0.64938</td>\n",
              "      <td>0.48357</td>\n",
              "      <td>0.34139</td>\n",
              "      <td>2.49204</td>\n",
              "    </tr>\n",
              "    <tr>\n",
              "      <th>3</th>\n",
              "      <td>Norway</td>\n",
              "      <td>Western Europe</td>\n",
              "      <td>4</td>\n",
              "      <td>7.522</td>\n",
              "      <td>0.03880</td>\n",
              "      <td>1.45900</td>\n",
              "      <td>1.33095</td>\n",
              "      <td>0.88521</td>\n",
              "      <td>0.66973</td>\n",
              "      <td>0.36503</td>\n",
              "      <td>0.34699</td>\n",
              "      <td>2.46531</td>\n",
              "    </tr>\n",
              "    <tr>\n",
              "      <th>4</th>\n",
              "      <td>Canada</td>\n",
              "      <td>North America</td>\n",
              "      <td>5</td>\n",
              "      <td>7.427</td>\n",
              "      <td>0.03553</td>\n",
              "      <td>1.32629</td>\n",
              "      <td>1.32261</td>\n",
              "      <td>0.90563</td>\n",
              "      <td>0.63297</td>\n",
              "      <td>0.32957</td>\n",
              "      <td>0.45811</td>\n",
              "      <td>2.45176</td>\n",
              "    </tr>\n",
              "  </tbody>\n",
              "</table>\n",
              "</div>"
            ],
            "text/plain": [
              "       Country          Region  ...  Generosity  Dystopia Residual\n",
              "0  Switzerland  Western Europe  ...     0.29678            2.51738\n",
              "1      Iceland  Western Europe  ...     0.43630            2.70201\n",
              "2      Denmark  Western Europe  ...     0.34139            2.49204\n",
              "3       Norway  Western Europe  ...     0.34699            2.46531\n",
              "4       Canada   North America  ...     0.45811            2.45176\n",
              "\n",
              "[5 rows x 12 columns]"
            ]
          },
          "metadata": {},
          "execution_count": 2
        }
      ]
    },
    {
      "cell_type": "markdown",
      "metadata": {
        "id": "yXLwkWMWcC7G"
      },
      "source": [
        "Checking null values"
      ]
    },
    {
      "cell_type": "code",
      "metadata": {
        "colab": {
          "base_uri": "https://localhost:8080/"
        },
        "id": "g92z8twmcFDm",
        "outputId": "16654632-acb7-4fe3-8b99-daa36cb6036b"
      },
      "source": [
        "data.info()"
      ],
      "execution_count": null,
      "outputs": [
        {
          "output_type": "stream",
          "name": "stdout",
          "text": [
            "<class 'pandas.core.frame.DataFrame'>\n",
            "RangeIndex: 158 entries, 0 to 157\n",
            "Data columns (total 12 columns):\n",
            " #   Column                         Non-Null Count  Dtype  \n",
            "---  ------                         --------------  -----  \n",
            " 0   Country                        158 non-null    object \n",
            " 1   Region                         158 non-null    object \n",
            " 2   Happiness Rank                 158 non-null    int64  \n",
            " 3   Happiness Score                158 non-null    float64\n",
            " 4   Standard Error                 158 non-null    float64\n",
            " 5   Economy (GDP per Capita)       158 non-null    float64\n",
            " 6   Family                         158 non-null    float64\n",
            " 7   Health (Life Expectancy)       158 non-null    float64\n",
            " 8   Freedom                        158 non-null    float64\n",
            " 9   Trust (Government Corruption)  158 non-null    float64\n",
            " 10  Generosity                     158 non-null    float64\n",
            " 11  Dystopia Residual              158 non-null    float64\n",
            "dtypes: float64(9), int64(1), object(2)\n",
            "memory usage: 14.9+ KB\n"
          ]
        }
      ]
    },
    {
      "cell_type": "markdown",
      "metadata": {
        "id": "WTmH2zU1rzgv"
      },
      "source": [
        "## Step 1. \n",
        "Choose variables for sampling from your dataset (overall – about 10 variables, 3-4 – target variables, the rest - predictors)."
      ]
    },
    {
      "cell_type": "code",
      "metadata": {
        "id": "zIRBBJcxsP5p"
      },
      "source": [
        "data = data[[\n",
        "             'Country',                   #vis\n",
        "             'Region',                    #target\n",
        "             'Happiness Rank',            #target\n",
        "             'Happiness Score',           #target\n",
        "             'Economy (GDP per Capita)',  #predictor\n",
        "             'Family',                    #predictor\n",
        "             'Health (Life Expectancy)',  #predictor\n",
        "             'Freedom',                   #predictor\n",
        "             'Trust (Government Corruption)',  #predictor\n",
        "             'Generosity',                #predictor\n",
        "             'Dystopia Residual',         #predictor\n",
        "             ]]"
      ],
      "execution_count": null,
      "outputs": []
    },
    {
      "cell_type": "code",
      "metadata": {
        "id": "r8JE5X6gjRtH",
        "colab": {
          "base_uri": "https://localhost:8080/"
        },
        "outputId": "5dca7fe4-785e-42e3-aa2a-85aaeef681fb"
      },
      "source": [
        "# region from text to int\n",
        "region = data.Region.unique()\n",
        "num = 0\n",
        "for i in region:\n",
        "  data['Region'] = data['Region'].replace({i:num})\n",
        "  num+=1"
      ],
      "execution_count": null,
      "outputs": [
        {
          "output_type": "stream",
          "name": "stderr",
          "text": [
            "/usr/local/lib/python3.7/dist-packages/ipykernel_launcher.py:5: SettingWithCopyWarning: \n",
            "A value is trying to be set on a copy of a slice from a DataFrame.\n",
            "Try using .loc[row_indexer,col_indexer] = value instead\n",
            "\n",
            "See the caveats in the documentation: https://pandas.pydata.org/pandas-docs/stable/user_guide/indexing.html#returning-a-view-versus-a-copy\n",
            "  \"\"\"\n"
          ]
        }
      ]
    },
    {
      "cell_type": "code",
      "metadata": {
        "id": "smWsqdUCrDGS"
      },
      "source": [
        "target = data[[\n",
        "             'Region',                    #target\n",
        "             'Happiness Rank',            #target\n",
        "             'Happiness Score',           #target\n",
        "             ]]\n",
        "predictor = data[[\n",
        "             'Economy (GDP per Capita)',  #predictor\n",
        "             'Family',                    #predictor\n",
        "             'Health (Life Expectancy)',  #predictor\n",
        "             'Freedom',                   #predictor\n",
        "             'Trust (Government Corruption)',  #predictor\n",
        "             'Generosity',                #predictor\n",
        "             'Dystopia Residual',         #predictor\n",
        "             ]]"
      ],
      "execution_count": null,
      "outputs": []
    },
    {
      "cell_type": "markdown",
      "metadata": {
        "id": "wRRYyFkHr_1Y"
      },
      "source": [
        "## Step 2. \n",
        "Using univariate parametric distributions that were fitted in Lab#2 make sampling of chosen target variables. Use for this 2 different sampling methods."
      ]
    },
    {
      "cell_type": "code",
      "metadata": {
        "id": "FOPIERSdkd6S"
      },
      "source": [
        "# Random sampling\n",
        "sampled = data.sample(frac=0.5)\n"
      ],
      "execution_count": null,
      "outputs": []
    },
    {
      "cell_type": "code",
      "metadata": {
        "id": "l152QnTr1Ijh"
      },
      "source": [
        "import scipy.stats\n",
        "# Inverse Transform Sampling\n",
        "def inverse_ts(array, dist):\n",
        "    args = dist.fit(array)\n",
        "    data = np.random.uniform(size=len(array))\n",
        "    its = dist(*args)\n",
        "    its = its.ppf(data)\n",
        "    return its\n",
        "its_region = inverse_ts(data['Region'], dist=scipy.stats.gamma)\n",
        "its_h_rank = inverse_ts(data['Happiness Rank'], dist=scipy.stats.gamma)\n",
        "its_h_score = inverse_ts(data['Happiness Score'], dist=scipy.stats.gamma)"
      ],
      "execution_count": null,
      "outputs": []
    },
    {
      "cell_type": "code",
      "metadata": {
        "colab": {
          "base_uri": "https://localhost:8080/",
          "height": 1000
        },
        "id": "-zYjSsmym2iL",
        "outputId": "660bd4cf-0efb-4e6f-c1c0-41ce0775a169"
      },
      "source": [
        "fig, ax = plt.subplots(3, 3, figsize=(20, 20))\n",
        "sns.set_theme()\n",
        "\n",
        "ax[0, 0].set_title('Real Data')\n",
        "ax[0, 1].set_title('Random sample')\n",
        "ax[0, 2].set_title('Inverse Transform Sample')\n",
        "\n",
        "sns.kdeplot(data['Region'], ax=ax[0, 0], x='Region', shade=True)\n",
        "sns.kdeplot(sampled['Region'], ax=ax[0, 1], x='Region', shade=True)\n",
        "sns.kdeplot(its_region, ax=ax[0, 2], x='Region', shade=True)\n",
        "\n",
        "sns.kdeplot(data['Happiness Rank'], ax=ax[1, 0], x='Happiness Rank', shade=True)\n",
        "sns.kdeplot(sampled['Happiness Rank'], ax=ax[1, 1], x='Happiness Rank', shade=True)\n",
        "sns.kdeplot(its_h_rank, ax=ax[1, 2], x='Happiness Rank', shade=True)\n",
        "\n",
        "sns.kdeplot(data['Happiness Score'], ax=ax[2, 0], x='Happiness Score', shade=True)\n",
        "sns.kdeplot(sampled['Happiness Score'], ax=ax[2, 1], x='Happiness Score', shade=True)\n",
        "sns.kdeplot(its_h_score, ax=ax[2, 2], x='Happiness Score', shade=True)\n",
        "\n",
        "plt.show()"
      ],
      "execution_count": null,
      "outputs": [
        {
          "output_type": "display_data",
          "data": {
            "image/png": "[encoded data removed]",
            "text/plain": [
              "<Figure size 1440x1440 with 9 Axes>"
            ]
          },
          "metadata": {}
        }
      ]
    },
    {
      "cell_type": "markdown",
      "metadata": {
        "id": "z6SemAokAcud"
      },
      "source": [
        "#### Random sample"
      ]
    },
    {
      "cell_type": "code",
      "metadata": {
        "id": "iNwFlr7N_RYA"
      },
      "source": [
        "rnd = pd.DataFrame(data={\n",
        "    'Region': sampled['Region'],\n",
        "    'Happiness Rank': sampled['Happiness Rank'],\n",
        "    'Happiness Score': sampled['Happiness Score']\n",
        "})"
      ],
      "execution_count": null,
      "outputs": []
    },
    {
      "cell_type": "markdown",
      "metadata": {
        "id": "dIwy6FhWAQ3m"
      },
      "source": [
        "*   Estimation of multivariate mathematical expectation \n",
        "\n"
      ]
    },
    {
      "cell_type": "code",
      "metadata": {
        "colab": {
          "base_uri": "https://localhost:8080/"
        },
        "id": "CQTYi3_zALj0",
        "outputId": "00862004-6dc6-4a1c-f4a5-a002607bc13b"
      },
      "source": [
        "rnd.mean()"
      ],
      "execution_count": null,
      "outputs": [
        {
          "output_type": "execute_result",
          "data": {
            "text/plain": [
              "Region              4.860759\n",
              "Happiness Rank     69.974684\n",
              "Happiness Score     5.592772\n",
              "dtype: float64"
            ]
          },
          "metadata": {},
          "execution_count": 27
        }
      ]
    },
    {
      "cell_type": "markdown",
      "metadata": {
        "id": "fyxg7m9VApEd"
      },
      "source": [
        "* Estimation of variance"
      ]
    },
    {
      "cell_type": "code",
      "metadata": {
        "colab": {
          "base_uri": "https://localhost:8080/"
        },
        "id": "CFhQi7DhAGQF",
        "outputId": "626183cf-b1bd-4df4-c0cc-c670bdee25c3"
      },
      "source": [
        "rnd.var()"
      ],
      "execution_count": null,
      "outputs": [
        {
          "output_type": "execute_result",
          "data": {
            "text/plain": [
              "Region                7.198312\n",
              "Happiness Rank     1915.230120\n",
              "Happiness Score       1.230179\n",
              "dtype: float64"
            ]
          },
          "metadata": {},
          "execution_count": 28
        }
      ]
    },
    {
      "cell_type": "markdown",
      "metadata": {
        "id": "z9R4RB4HA6sX"
      },
      "source": [
        "#### Inverse transform sample"
      ]
    },
    {
      "cell_type": "code",
      "metadata": {
        "id": "-ufbT_xOA6sY"
      },
      "source": [
        "its = pd.DataFrame(data={\n",
        "    'Region': its_region,\n",
        "    'Happiness Rank': its_h_rank,\n",
        "    'Happiness Score': its_h_score\n",
        "})"
      ],
      "execution_count": null,
      "outputs": []
    },
    {
      "cell_type": "markdown",
      "metadata": {
        "id": "nEPxyda4A6sZ"
      },
      "source": [
        "*   Estimation of multivariate mathematical expectation \n",
        "\n"
      ]
    },
    {
      "cell_type": "code",
      "metadata": {
        "colab": {
          "base_uri": "https://localhost:8080/"
        },
        "id": "muxEuebtA6sZ",
        "outputId": "9265e142-b6f3-455a-8e0f-5c38df313abe"
      },
      "source": [
        "its.mean()"
      ],
      "execution_count": null,
      "outputs": [
        {
          "output_type": "execute_result",
          "data": {
            "text/plain": [
              "Region              5.116372\n",
              "Happiness Rank     82.935472\n",
              "Happiness Score     5.369111\n",
              "dtype: float64"
            ]
          },
          "metadata": {},
          "execution_count": 24
        }
      ]
    },
    {
      "cell_type": "markdown",
      "metadata": {
        "id": "PoSW8MoLA6sa"
      },
      "source": [
        "* Estimation of variance"
      ]
    },
    {
      "cell_type": "code",
      "metadata": {
        "colab": {
          "base_uri": "https://localhost:8080/"
        },
        "id": "rGxgjIDPA6sb",
        "outputId": "5994c289-5629-4df6-9010-eab1dfcb9f7f"
      },
      "source": [
        "its.var()"
      ],
      "execution_count": null,
      "outputs": [
        {
          "output_type": "execute_result",
          "data": {
            "text/plain": [
              "Region                6.507217\n",
              "Happiness Rank     2290.218874\n",
              "Happiness Score       1.311377\n",
              "dtype: float64"
            ]
          },
          "metadata": {},
          "execution_count": 25
        }
      ]
    },
    {
      "cell_type": "markdown",
      "metadata": {
        "id": "j0VoEKXSsFzy"
      },
      "source": [
        "## Step 3.\n",
        "Estimate relations between predictors and chosen target variables. At least, they should have significant correlation coefficients."
      ]
    },
    {
      "cell_type": "code",
      "metadata": {
        "colab": {
          "base_uri": "https://localhost:8080/",
          "height": 402
        },
        "id": "oS6LpsabsHZ1",
        "outputId": "c4c8e331-44f6-431e-98e2-824f3a5cfa5f"
      },
      "source": [
        "fig, ax = plt.subplots(1, 3, figsize=(20, 10))\n",
        "sns.set_theme()\n",
        "fig.tight_layout(pad=15.0)\n",
        "\n",
        "ax[0].set_title('Region')\n",
        "ax[1].set_title('Happiness Rank')\n",
        "ax[2].set_title('Happiness Score')\n",
        "\n",
        "sns.heatmap(\n",
        "    sampled.corr()[['Region']].sort_values(by='Region', ascending=False),\n",
        "    annot=True,\n",
        "    linewidths=0.25, \n",
        "    ax=ax[0]\n",
        "    #x='Region'\n",
        ")\n",
        "sns.heatmap(\n",
        "    sampled.corr()[['Happiness Rank']].sort_values(by='Happiness Rank', ascending=False),\n",
        "    annot=True,\n",
        "    linewidths=0.25, \n",
        "    ax=ax[1]\n",
        "    #x='Region'\n",
        ")\n",
        "sns.heatmap(\n",
        "    sampled.corr()[['Happiness Score']].sort_values(by='Happiness Score', ascending=False),\n",
        "    annot=True,\n",
        "    linewidths=0.25, \n",
        "    ax=ax[2]\n",
        "    #x='Region'\n",
        ")\n",
        "\n",
        "plt.show()"
      ],
      "execution_count": null,
      "outputs": [
        {
          "output_type": "display_data",
          "data": {
            "image/png": "[encoded data removed]",
            "text/plain": [
              "<Figure size 1440x720 with 6 Axes>"
            ]
          },
          "metadata": {}
        }
      ]
    },
    {
      "cell_type": "markdown",
      "metadata": {
        "id": "0HUdU_BqsOaJ"
      },
      "source": [
        "## Step 4. \n",
        "Build a Bayesian network for chosen set of variables. Choose its structure on the basis of multivariate analysis and train distributions in nodes using chosen algorithm."
      ]
    },
    {
      "cell_type": "code",
      "metadata": {
        "id": "3rUwIMKl0RjB"
      },
      "source": [
        "transformed = sampled.copy()\n",
        "discretized = KBinsDiscretizer(n_bins=10, encode='ordinal', strategy='kmeans').fit_transform(sampled.values[:, [3,4,5,6,7,8,9,10]])\n",
        "transformed[['Happiness Score','Economy (GDP per Capita)','Family','Health (Life Expectancy)','Freedom','Trust (Government Corruption)','Generosity','Dystopia Residual']] = discretized"
      ],
      "execution_count": null,
      "outputs": []
    },
    {
      "cell_type": "code",
      "metadata": {
        "colab": {
          "base_uri": "https://localhost:8080/",
          "height": 49,
          "referenced_widgets": [
            "3b4577b9a8b548f89f51ef303bed2a4a",
            "dda2af880ae94c93b990e0769376e1df",
            "ba8bad2d2dc943a6bcd9eedbffac4fd6",
            "85f6b6f5f4f84223b8520e4f09ab5e42",
            "e81aca9a5f274e1a88507770a981038a",
            "e2ad3fca37cb4984945c18044073de6d",
            "a5301a737bb245e8afff5f6f1be68244",
            "52f52d8b7feb490c94986c027b373bba",
            "daaebebb68a1467b82accfa03b2b518d",
            "0f7fbc86f43c490ba9134d95db602e78",
            "e227ac65844f41a08888eefab3fcb4d7"
          ]
        },
        "id": "x5T61bLeai1m",
        "outputId": "c7702c3e-56c9-4f28-9b5a-7129fa45ff2d"
      },
      "source": [
        "hc = HillClimbSearch(data=transformed)\n",
        "k2 = hc.estimate(scoring_method=K2Score(transformed))"
      ],
      "execution_count": null,
      "outputs": [
        {
          "output_type": "display_data",
          "data": {
            "application/vnd.jupyter.widget-view+json": {
              "model_id": "3b4577b9a8b548f89f51ef303bed2a4a",
              "version_minor": 0,
              "version_major": 2
            },
            "text/plain": [
              "  0%|          | 0/1000000 [00:00<?, ?it/s]"
            ]
          },
          "metadata": {}
        }
      ]
    },
    {
      "cell_type": "code",
      "metadata": {
        "colab": {
          "base_uri": "https://localhost:8080/",
          "height": 574
        },
        "id": "tSwDdcPKgg8_",
        "outputId": "00409ad6-0ac7-4c92-d05c-c3d2781ddb5c"
      },
      "source": [
        "fig, ax = plt.subplots(1, 1, figsize=(10, 10))\n",
        "graph = nx.DiGraph()\n",
        "graph.add_edges_from(k2.edges())\n",
        "nx.draw(graph, nx.layout.circular_layout(graph), with_labels=True)\n",
        "plt.show()"
      ],
      "execution_count": null,
      "outputs": [
        {
          "output_type": "display_data",
          "data": {
            "image/png": "[encoded data removed]",
            "text/plain": [
              "<Figure size 720x720 with 1 Axes>"
            ]
          },
          "metadata": {}
        }
      ]
    },
    {
      "cell_type": "code",
      "metadata": {
        "colab": {
          "base_uri": "https://localhost:8080/"
        },
        "id": "Ho1itoFNi6sS",
        "outputId": "2261cce3-5745-471d-e636-0f320ac10cc1"
      },
      "source": [
        "blacklist = [(x, y) for x in transformed.columns.to_list() for y in ['Economy (GDP per Capita)','Family','Health (Life Expectancy)','Freedom','Trust (Government Corruption)','Generosity','Dystopia Residual'] if x != y]\n",
        "blacklist"
      ],
      "execution_count": null,
      "outputs": [
        {
          "output_type": "execute_result",
          "data": {
            "text/plain": [
              "[('Country', 'Economy (GDP per Capita)'),\n",
              " ('Country', 'Family'),\n",
              " ('Country', 'Health (Life Expectancy)'),\n",
              " ('Country', 'Freedom'),\n",
              " ('Country', 'Trust (Government Corruption)'),\n",
              " ('Country', 'Generosity'),\n",
              " ('Country', 'Dystopia Residual'),\n",
              " ('Region', 'Economy (GDP per Capita)'),\n",
              " ('Region', 'Family'),\n",
              " ('Region', 'Health (Life Expectancy)'),\n",
              " ('Region', 'Freedom'),\n",
              " ('Region', 'Trust (Government Corruption)'),\n",
              " ('Region', 'Generosity'),\n",
              " ('Region', 'Dystopia Residual'),\n",
              " ('Happiness Rank', 'Economy (GDP per Capita)'),\n",
              " ('Happiness Rank', 'Family'),\n",
              " ('Happiness Rank', 'Health (Life Expectancy)'),\n",
              " ('Happiness Rank', 'Freedom'),\n",
              " ('Happiness Rank', 'Trust (Government Corruption)'),\n",
              " ('Happiness Rank', 'Generosity'),\n",
              " ('Happiness Rank', 'Dystopia Residual'),\n",
              " ('Happiness Score', 'Economy (GDP per Capita)'),\n",
              " ('Happiness Score', 'Family'),\n",
              " ('Happiness Score', 'Health (Life Expectancy)'),\n",
              " ('Happiness Score', 'Freedom'),\n",
              " ('Happiness Score', 'Trust (Government Corruption)'),\n",
              " ('Happiness Score', 'Generosity'),\n",
              " ('Happiness Score', 'Dystopia Residual'),\n",
              " ('Economy (GDP per Capita)', 'Family'),\n",
              " ('Economy (GDP per Capita)', 'Health (Life Expectancy)'),\n",
              " ('Economy (GDP per Capita)', 'Freedom'),\n",
              " ('Economy (GDP per Capita)', 'Trust (Government Corruption)'),\n",
              " ('Economy (GDP per Capita)', 'Generosity'),\n",
              " ('Economy (GDP per Capita)', 'Dystopia Residual'),\n",
              " ('Family', 'Economy (GDP per Capita)'),\n",
              " ('Family', 'Health (Life Expectancy)'),\n",
              " ('Family', 'Freedom'),\n",
              " ('Family', 'Trust (Government Corruption)'),\n",
              " ('Family', 'Generosity'),\n",
              " ('Family', 'Dystopia Residual'),\n",
              " ('Health (Life Expectancy)', 'Economy (GDP per Capita)'),\n",
              " ('Health (Life Expectancy)', 'Family'),\n",
              " ('Health (Life Expectancy)', 'Freedom'),\n",
              " ('Health (Life Expectancy)', 'Trust (Government Corruption)'),\n",
              " ('Health (Life Expectancy)', 'Generosity'),\n",
              " ('Health (Life Expectancy)', 'Dystopia Residual'),\n",
              " ('Freedom', 'Economy (GDP per Capita)'),\n",
              " ('Freedom', 'Family'),\n",
              " ('Freedom', 'Health (Life Expectancy)'),\n",
              " ('Freedom', 'Trust (Government Corruption)'),\n",
              " ('Freedom', 'Generosity'),\n",
              " ('Freedom', 'Dystopia Residual'),\n",
              " ('Trust (Government Corruption)', 'Economy (GDP per Capita)'),\n",
              " ('Trust (Government Corruption)', 'Family'),\n",
              " ('Trust (Government Corruption)', 'Health (Life Expectancy)'),\n",
              " ('Trust (Government Corruption)', 'Freedom'),\n",
              " ('Trust (Government Corruption)', 'Generosity'),\n",
              " ('Trust (Government Corruption)', 'Dystopia Residual'),\n",
              " ('Generosity', 'Economy (GDP per Capita)'),\n",
              " ('Generosity', 'Family'),\n",
              " ('Generosity', 'Health (Life Expectancy)'),\n",
              " ('Generosity', 'Freedom'),\n",
              " ('Generosity', 'Trust (Government Corruption)'),\n",
              " ('Generosity', 'Dystopia Residual'),\n",
              " ('Dystopia Residual', 'Economy (GDP per Capita)'),\n",
              " ('Dystopia Residual', 'Family'),\n",
              " ('Dystopia Residual', 'Health (Life Expectancy)'),\n",
              " ('Dystopia Residual', 'Freedom'),\n",
              " ('Dystopia Residual', 'Trust (Government Corruption)'),\n",
              " ('Dystopia Residual', 'Generosity')]"
            ]
          },
          "metadata": {},
          "execution_count": 21
        }
      ]
    },
    {
      "cell_type": "code",
      "metadata": {
        "colab": {
          "base_uri": "https://localhost:8080/",
          "height": 49,
          "referenced_widgets": [
            "f2bc93dd07104ebab71891dfd4deb555",
            "57c55f100fff4c24a9200eddff08c3ba",
            "865bb48d956c43dca0f17f65c2222374",
            "d8f1d8e60c9f49649aa713ae8d2bb575",
            "b6537725d9974427b757c4b581cae713",
            "90842c73c95a44e8bd4c0b5617f19c79",
            "2a9cc86c1a544ddb9de196961151cfe5",
            "27c15aa985b148558c292e36d56b7737",
            "c3ee97a9b1b1442c9c0681c735abbf64",
            "033ed4a7c29c44daae61283bd4f381c0",
            "fb6b75b2a7bb4ee1849fc2fd2d3b4fbb"
          ]
        },
        "id": "KCEqFvpzk-ze",
        "outputId": "90aab607-c53f-45e6-efb8-ef961ef675e8"
      },
      "source": [
        "k2_bl = hc.estimate(black_list=blacklist)"
      ],
      "execution_count": null,
      "outputs": [
        {
          "output_type": "display_data",
          "data": {
            "application/vnd.jupyter.widget-view+json": {
              "model_id": "f2bc93dd07104ebab71891dfd4deb555",
              "version_minor": 0,
              "version_major": 2
            },
            "text/plain": [
              "  0%|          | 0/1000000 [00:00<?, ?it/s]"
            ]
          },
          "metadata": {}
        }
      ]
    },
    {
      "cell_type": "code",
      "metadata": {
        "colab": {
          "base_uri": "https://localhost:8080/",
          "height": 574
        },
        "id": "CfXaZqwalexc",
        "outputId": "59288558-f962-4f88-d23c-8e6fd91463d6"
      },
      "source": [
        "fig, ax = plt.subplots(1, 1, figsize=(10, 10))\n",
        "graph = nx.DiGraph()\n",
        "graph.add_edges_from(k2_bl.edges())\n",
        "nx.draw(graph, nx.layout.circular_layout(graph), with_labels=True)\n",
        "plt.show()"
      ],
      "execution_count": null,
      "outputs": [
        {
          "output_type": "display_data",
          "data": {
            "image/png": "[encoded data removed]",
            "text/plain": [
              "<Figure size 720x720 with 1 Axes>"
            ]
          },
          "metadata": {}
        }
      ]
    },
    {
      "cell_type": "markdown",
      "metadata": {
        "id": "rZttd3MYsZev"
      },
      "source": [
        "## Step 5. \n",
        "Build a Bayesian network for the same set of variables but using 2 chosen algorithms for structural learning. "
      ]
    },
    {
      "cell_type": "code",
      "metadata": {
        "colab": {
          "base_uri": "https://localhost:8080/",
          "height": 49,
          "referenced_widgets": [
            "4e397066f80848dc8eb973216c1ac2f6",
            "466e041fe37f4d2bbbf952495ffc77be",
            "1bbb98beec314db3a6272988c472bed7",
            "1ca158357b46451da2fe082c7adc89ef",
            "3ae789b98ac9434fb9b7aa2ece1a8eea",
            "94b5faec620f4467b922c7f202b6148d",
            "4013ad2102384b7394f9a1ada6cdad33",
            "4c1eaa2b37e941d7acb85e1e2f70ed4a",
            "3853f49dcb12412297851d60639aaa84",
            "630270ac6419479da0a26c8159a1250d",
            "57e9be103e694b1b9ab33447d3726097"
          ]
        },
        "id": "oeNVCtHWlrPE",
        "outputId": "8b9d11c2-a837-4b0b-de26-a5345727d2ab"
      },
      "source": [
        "#BDeuScore\n",
        "bdeu = hc.estimate(scoring_method=BDeuScore(transformed))"
      ],
      "execution_count": null,
      "outputs": [
        {
          "output_type": "display_data",
          "data": {
            "application/vnd.jupyter.widget-view+json": {
              "model_id": "4e397066f80848dc8eb973216c1ac2f6",
              "version_minor": 0,
              "version_major": 2
            },
            "text/plain": [
              "  0%|          | 0/1000000 [00:00<?, ?it/s]"
            ]
          },
          "metadata": {}
        }
      ]
    },
    {
      "cell_type": "code",
      "metadata": {
        "colab": {
          "base_uri": "https://localhost:8080/",
          "height": 574
        },
        "id": "b_eYQOVymax5",
        "outputId": "1bd8fe25-b9ea-4666-f490-efcf242850fe"
      },
      "source": [
        "fig, ax = plt.subplots(1, 1, figsize=(10, 10))\n",
        "graph = nx.DiGraph()\n",
        "graph.add_edges_from(bdeu.edges())\n",
        "nx.draw(graph, nx.layout.circular_layout(graph), with_labels=True)\n",
        "plt.show()"
      ],
      "execution_count": null,
      "outputs": [
        {
          "output_type": "display_data",
          "data": {
            "image/png": "[encoded data removed]",
            "text/plain": [
              "<Figure size 720x720 with 1 Axes>"
            ]
          },
          "metadata": {}
        }
      ]
    },
    {
      "cell_type": "code",
      "metadata": {
        "colab": {
          "base_uri": "https://localhost:8080/",
          "height": 49,
          "referenced_widgets": [
            "3947a0dd181e49379c4d70e2f2dd7ac6",
            "d7f7856919e949bd8d05911a472490fe",
            "bfceb72673df4be3b26575fd93e04292",
            "6f2ff3c20dd3447497b314a911bcd847",
            "f30eb4544cd848a29e92aad797f50cfa",
            "55239fdbbced43588a73c5934eded077",
            "375eeeac75d7472e93962894e7711029",
            "e6d805bd06b64fd69fddd80b8ab61c91",
            "d87973f0aec84c7b80ddd5123ddbfe9c",
            "939f085d09e34d31be12732d37e102ae",
            "dc131fa424904127a114a402d817224d"
          ]
        },
        "id": "lOsNS162u70v",
        "outputId": "de5947c7-b1c6-4ae9-b747-a0816ef16333"
      },
      "source": [
        "#BDsScore\n",
        "bds = hc.estimate(scoring_method=BDsScore(transformed))"
      ],
      "execution_count": null,
      "outputs": [
        {
          "output_type": "display_data",
          "data": {
            "application/vnd.jupyter.widget-view+json": {
              "model_id": "3947a0dd181e49379c4d70e2f2dd7ac6",
              "version_minor": 0,
              "version_major": 2
            },
            "text/plain": [
              "  0%|          | 0/1000000 [00:00<?, ?it/s]"
            ]
          },
          "metadata": {}
        }
      ]
    },
    {
      "cell_type": "code",
      "metadata": {
        "colab": {
          "base_uri": "https://localhost:8080/",
          "height": 574
        },
        "id": "RTkiUImLvab3",
        "outputId": "8ee6d601-be97-42d5-ea53-d88e7c74ea12"
      },
      "source": [
        "fig, ax = plt.subplots(1, 1, figsize=(10, 10))\n",
        "graph = nx.DiGraph()\n",
        "graph.add_edges_from(bds.edges())\n",
        "nx.draw(graph, nx.layout.circular_layout(graph), with_labels=True)\n",
        "plt.show()"
      ],
      "execution_count": null,
      "outputs": [
        {
          "output_type": "display_data",
          "data": {
            "image/png": "[encoded data removed]",
            "text/plain": [
              "<Figure size 720x720 with 1 Axes>"
            ]
          },
          "metadata": {}
        }
      ]
    },
    {
      "cell_type": "markdown",
      "metadata": {
        "id": "4NxGuqz8sjwa"
      },
      "source": [
        "## Step 6. \n",
        "Analyze a quality of sampled target variables from the point of view of problem statement (e.g. prediction, gap filling, synthetic generation)."
      ]
    },
    {
      "cell_type": "code",
      "metadata": {
        "id": "TDhrn2AVvvLj"
      },
      "source": [
        "def sampling(bn, data, n):\n",
        "    ms = BayesianModel(bn.edges())\n",
        "    ms.fit(data)\n",
        "    sample = BayesianModelSampling(ms).forward_sample(size=n)\n",
        "    return sample\n",
        "def histplot(obj, data, s1, s2, s3, s4):\n",
        "    df,df1,df2,df3,df4,df5 = pd.DataFrame(),pd.DataFrame(),pd.DataFrame(),pd.DataFrame(),pd.DataFrame(),pd.DataFrame()\n",
        "\n",
        "    df1[obj],df1['Mode'] = data[obj],'Original Data'\n",
        "    df1['Prob'] = df1[obj].apply( lambda x: (df1.groupby(obj)[obj].count()[x])  /  data.shape[0])    \n",
        "    df2[obj],df2['Mode']  = s1[obj],'K2Score'\n",
        "    df2['Prob'] = df2[obj].apply( lambda x: (df2.groupby(obj)[obj].count()[x])  /  s1.shape[0]  )    \n",
        "    df3[obj], df3['Mode'] = s2[obj],'K2 Blacklist'\n",
        "    df3['Prob'] = df3[obj].apply( lambda x: (df3.groupby(obj)[obj].count()[x])  /  s2.shape[0]  )    \n",
        "    df4[obj],df4['Mode'] = s3[obj],'BDeuScore'\n",
        "    df4['Prob'] = df4[obj].apply( lambda x: (df4.groupby(obj)[obj].count()[x])  /  s3.shape[0]  )    \n",
        "    df5[obj],df5['Mode'] = s4[obj],'BDsScore'\n",
        "    df5['Prob'] = df5[obj].apply( lambda x: (df5.groupby(obj)[obj].count()[x])  /  s4.shape[0]  )\n",
        "\n",
        "    df = pd.concat([df1, df2, df3, df4, df5])    \n",
        "    figure, ax = plt.subplots(1, 1, figsize=(40, 10))\n",
        "    sns.set_theme()\n",
        "    sns.barplot(x=obj, y='Prob', hue='Mode', data=df)    \n",
        "    plt.legend()\n",
        "    plt.show()"
      ],
      "execution_count": null,
      "outputs": []
    },
    {
      "cell_type": "code",
      "metadata": {
        "colab": {
          "base_uri": "https://localhost:8080/",
          "height": 422,
          "referenced_widgets": [
            "5c60a7bba70545488477b471114857b8",
            "738784d2b2c5413482f40352ef6e5680",
            "406a436330ff47bfb6fa317276a90fe2",
            "9dce9b2769fc46dabdb3783ff4df4681",
            "3d1c754b6e7f42bea2cf0612c5358109",
            "f4ea1d58a5254ffda1cd2c74867cc976",
            "3c40588772e04e4399c315e60c91805f",
            "56a8aed9de474499ae54f7896428a305",
            "a53a3eb60b88494e8dd1727943865321",
            "4d3e4b9dda6c44e3bea0388658e26eec",
            "0f6a93018bc542ed9226be1a69ed7051",
            "aae340b0f6d04c6d9ef1ad0f8b4cd1ee",
            "71578ab803124cfbbf70099f822f1197",
            "a7e2952b985a4a588360aae842830911",
            "845ce612622146b88f34ca9bcaf0b840",
            "7e09f17fea6144d684a7987d6a6aadad",
            "b0fb6307ad064a4aa438ea1ef7282a9a",
            "bcf2aad303434046bf6052f8ab6e22ac",
            "49e666d1eb3549bfbb702fbc05c2da53",
            "f462cc6fe2154ff0a02973810a461395",
            "b4bf666660b4405b8f98ac6ed4f9bd42",
            "c38575c4e5954f9a9fc2d4c84628deee",
            "763075e53a754c848b442940cd5f3ad8",
            "1ac113130391464badc95d7c0be062ec",
            "37bb4e36e8e0465c8974dd1c4c5d9689",
            "8ff3e38f2eff4878ad9f1b2a0a8ace98",
            "b744c977f2c64fe3821516cc71b52597",
            "6c043b03c81d4e158482684761526fe5",
            "be82a325588f406182d9b4f3e387de0a",
            "e88b6b49322e452c97cc343464dde3ba",
            "c1e27072ec2049fca91d8a7b86ad181b",
            "994144870bf04acdb957df11ddc951c9",
            "6d8e7cdd5257472e89e34f8b27077c76",
            "7282edbd1055402483e73d1a9e7084fb",
            "5d1dc0e1c6284fadb10b060d63aa66ee",
            "937e5b833c6d45e781d6ed44fde92ebd",
            "c8d6c784f4204cfb904cb7848e5e3bf7",
            "026c95f2fff64fd8a49be19a427ad897",
            "2c8b3ef17c034c9eb2b09579bb9481ae",
            "500769f3f2044fedbced55ccfc1cfafc",
            "73d8e882f68e4be38b774e6a95151f88",
            "8827ce4bed4549038a9d6d32489807c3",
            "8ed1f722c0d34c7a83d95e97fa1e1bb1",
            "d3c3ed572ace4f0b9c923dc5adced652"
          ]
        },
        "id": "vVfcEe2MHY45",
        "outputId": "57164b2a-6d10-4196-f109-1808206cddda"
      },
      "source": [
        "s1=sampling(k2, transformed, 79)[:79]\n",
        "s2=sampling(k2_bl, transformed, 79)[:79]\n",
        "s3=sampling(bdeu, transformed, 79)[:79]\n",
        "s4=sampling(bds, transformed, 79)[:79]"
      ],
      "execution_count": null,
      "outputs": [
        {
          "output_type": "stream",
          "name": "stderr",
          "text": [
            "/usr/local/lib/python3.7/dist-packages/pgmpy/models/BayesianModel.py:10: FutureWarning: BayesianModel has been renamed to BayesianNetwork. Please use BayesianNewtork class, BayesianModel will be removed in future.\n",
            "  FutureWarning,\n"
          ]
        },
        {
          "output_type": "display_data",
          "data": {
            "application/vnd.jupyter.widget-view+json": {
              "model_id": "5c60a7bba70545488477b471114857b8",
              "version_minor": 0,
              "version_major": 2
            },
            "text/plain": [
              "  0%|          | 0/10 [00:00<?, ?it/s]"
            ]
          },
          "metadata": {}
        },
        {
          "output_type": "stream",
          "name": "stderr",
          "text": [
            "/usr/local/lib/python3.7/dist-packages/pgmpy/utils/mathext.py:84: UserWarning: Probability values don't exactly sum to 1. Differ by: 1.1102230246251565e-16. Adjusting values.\n",
            "  f\"Probability values don't exactly sum to 1. Differ by: {error}. Adjusting values.\"\n",
            "/usr/local/lib/python3.7/dist-packages/pgmpy/models/BayesianModel.py:10: FutureWarning: BayesianModel has been renamed to BayesianNetwork. Please use BayesianNewtork class, BayesianModel will be removed in future.\n",
            "  FutureWarning,\n"
          ]
        },
        {
          "output_type": "display_data",
          "data": {
            "application/vnd.jupyter.widget-view+json": {
              "model_id": "aae340b0f6d04c6d9ef1ad0f8b4cd1ee",
              "version_minor": 0,
              "version_major": 2
            },
            "text/plain": [
              "  0%|          | 0/8 [00:00<?, ?it/s]"
            ]
          },
          "metadata": {}
        },
        {
          "output_type": "stream",
          "name": "stderr",
          "text": [
            "/usr/local/lib/python3.7/dist-packages/pgmpy/utils/mathext.py:84: UserWarning: Probability values don't exactly sum to 1. Differ by: 1.1102230246251565e-16. Adjusting values.\n",
            "  f\"Probability values don't exactly sum to 1. Differ by: {error}. Adjusting values.\"\n",
            "/usr/local/lib/python3.7/dist-packages/pgmpy/utils/mathext.py:84: UserWarning: Probability values don't exactly sum to 1. Differ by: -2.220446049250313e-16. Adjusting values.\n",
            "  f\"Probability values don't exactly sum to 1. Differ by: {error}. Adjusting values.\"\n",
            "/usr/local/lib/python3.7/dist-packages/pgmpy/models/BayesianModel.py:10: FutureWarning: BayesianModel has been renamed to BayesianNetwork. Please use BayesianNewtork class, BayesianModel will be removed in future.\n",
            "  FutureWarning,\n"
          ]
        },
        {
          "output_type": "display_data",
          "data": {
            "application/vnd.jupyter.widget-view+json": {
              "model_id": "763075e53a754c848b442940cd5f3ad8",
              "version_minor": 0,
              "version_major": 2
            },
            "text/plain": [
              "  0%|          | 0/8 [00:00<?, ?it/s]"
            ]
          },
          "metadata": {}
        },
        {
          "output_type": "stream",
          "name": "stderr",
          "text": [
            "/usr/local/lib/python3.7/dist-packages/pgmpy/utils/mathext.py:84: UserWarning: Probability values don't exactly sum to 1. Differ by: -2.220446049250313e-16. Adjusting values.\n",
            "  f\"Probability values don't exactly sum to 1. Differ by: {error}. Adjusting values.\"\n",
            "/usr/local/lib/python3.7/dist-packages/pgmpy/models/BayesianModel.py:10: FutureWarning: BayesianModel has been renamed to BayesianNetwork. Please use BayesianNewtork class, BayesianModel will be removed in future.\n",
            "  FutureWarning,\n"
          ]
        },
        {
          "output_type": "display_data",
          "data": {
            "application/vnd.jupyter.widget-view+json": {
              "model_id": "7282edbd1055402483e73d1a9e7084fb",
              "version_minor": 0,
              "version_major": 2
            },
            "text/plain": [
              "  0%|          | 0/7 [00:00<?, ?it/s]"
            ]
          },
          "metadata": {}
        }
      ]
    },
    {
      "cell_type": "code",
      "metadata": {
        "colab": {
          "base_uri": "https://localhost:8080/",
          "height": 494
        },
        "id": "qLX1HUUIH18K",
        "outputId": "9ddff55a-0266-4f3c-bd64-ce7e101ea8c3"
      },
      "source": [
        "histplot('Region',transformed,s1,s2,s3,s4)"
      ],
      "execution_count": null,
      "outputs": [
        {
          "output_type": "display_data",
          "data": {
            "image/png": "[encoded data removed]",
            "text/plain": [
              "<Figure size 2880x720 with 1 Axes>"
            ]
          },
          "metadata": {}
        }
      ]
    },
    {
      "cell_type": "code",
      "metadata": {
        "colab": {
          "base_uri": "https://localhost:8080/",
          "height": 493
        },
        "id": "D-J9iMhM1203",
        "outputId": "d2c074c2-ffba-4ad9-c889-ca9ad36e1f6f"
      },
      "source": [
        "histplot('Happiness Rank',transformed,s1,s2,s3,s4)"
      ],
      "execution_count": null,
      "outputs": [
        {
          "output_type": "display_data",
          "data": {
            "image/png": "[encoded data removed]",
            "text/plain": [
              "<Figure size 2880x720 with 1 Axes>"
            ]
          },
          "metadata": {}
        }
      ]
    },
    {
      "cell_type": "code",
      "metadata": {
        "colab": {
          "base_uri": "https://localhost:8080/",
          "height": 493
        },
        "id": "ZzzRAvlfH7H0",
        "outputId": "04419457-92a6-47f5-d024-2db02c00e93a"
      },
      "source": [
        "histplot('Happiness Score',transformed,s1,s2,s3,s4)"
      ],
      "execution_count": null,
      "outputs": [
        {
          "output_type": "display_data",
          "data": {
            "image/png": "[encoded data removed]",
            "text/plain": [
              "<Figure size 2880x720 with 1 Axes>"
            ]
          },
          "metadata": {}
        }
      ]
    }
  ]
}
