{
 "cells": [
  {
   "cell_type": "code",
   "execution_count": 28,
   "id": "8fb2e9bf",
   "metadata": {},
   "outputs": [],
   "source": [
    "import pandas as pd\n",
    "import numpy as np\n",
    "import matplotlib.pyplot as plt\n",
    "from statsmodels.tsa.stattools import adfuller\n",
    "stock = pd.read_csv('./dataset/cryptocurrencies/HEX-USD.csv', header=0, index_col=0, squeeze=True)\n",
    "stock.dropna(axis=0, inplace=True)\n"
   ]
  },
  {
   "cell_type": "markdown",
   "id": "ae607a55",
   "metadata": {},
   "source": [
    "Analize Stationarity\n",
    "===================================\n",
    "\n",
    "Using Augmented Dickey-Fuller test if p-value >  0.05 the data has a unit root and is non-stationary"
   ]
  },
  {
   "cell_type": "code",
   "execution_count": 30,
   "id": "9b13bcbf",
   "metadata": {},
   "outputs": [
    {
     "name": "stdout",
     "output_type": "stream",
     "text": [
      "Result Check : Open\n",
      "ADF Statistic: 1.765713\n",
      "p-value: 0.998279\n",
      "Critical Values:\n",
      "\t1%: -3.466\n",
      "\t5%: -2.877\n",
      "\t10%: -2.575\n",
      "\n",
      "Result Check : High\n",
      "ADF Statistic: 1.765713\n",
      "p-value: 0.998279\n",
      "Critical Values:\n",
      "\t1%: -3.466\n",
      "\t5%: -2.877\n",
      "\t10%: -2.575\n",
      "\n",
      "Result Check : Low\n",
      "ADF Statistic: 1.765713\n",
      "p-value: 0.998279\n",
      "Critical Values:\n",
      "\t1%: -3.466\n",
      "\t5%: -2.877\n",
      "\t10%: -2.575\n",
      "\n",
      "Result Check : Close\n",
      "ADF Statistic: 1.765713\n",
      "p-value: 0.998279\n",
      "Critical Values:\n",
      "\t1%: -3.466\n",
      "\t5%: -2.877\n",
      "\t10%: -2.575\n",
      "\n",
      "Result Check : Adj Close\n",
      "ADF Statistic: 1.765713\n",
      "p-value: 0.998279\n",
      "Critical Values:\n",
      "\t1%: -3.466\n",
      "\t5%: -2.877\n",
      "\t10%: -2.575\n",
      "\n",
      "Result Check : Volume\n",
      "ADF Statistic: 1.765713\n",
      "p-value: 0.998279\n",
      "Critical Values:\n",
      "\t1%: -3.466\n",
      "\t5%: -2.877\n",
      "\t10%: -2.575\n",
      "\n"
     ]
    }
   ],
   "source": [
    "class StationaryCheck:\n",
    "    def stchk(self,x):\n",
    "        result = adfuller(X)\n",
    "        print('ADF Statistic: %f' % result[0])\n",
    "        print('p-value: %f' % result[1])\n",
    "        print('Critical Values:')\n",
    "        for key, value in result[4].items():\n",
    "            print('\\t%s: %.3f' % (key, value))\n",
    "test = StationaryCheck()\n",
    "for column in stock:\n",
    "    print(\"Result Check : {}\".format(column))    \n",
    "    test.stchk(stock[column].values)\n",
    "    print(\"\")\n"
   ]
  },
  {
   "cell_type": "code",
   "execution_count": null,
   "id": "39be4ccb",
   "metadata": {},
   "outputs": [],
   "source": []
  }
 ],
 "metadata": {
  "kernelspec": {
   "display_name": "Python 3 (ipykernel)",
   "language": "python",
   "name": "python3"
  },
  "language_info": {
   "codemirror_mode": {
    "name": "ipython",
    "version": 3
   },
   "file_extension": ".py",
   "mimetype": "text/x-python",
   "name": "python",
   "nbconvert_exporter": "python",
   "pygments_lexer": "ipython3",
   "version": "3.10.0"
  }
 },
 "nbformat": 4,
 "nbformat_minor": 5
}
